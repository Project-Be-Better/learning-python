{
 "cells": [
  {
   "cell_type": "code",
   "execution_count": 5,
   "metadata": {},
   "outputs": [],
   "source": [
    "from typing import Optional"
   ]
  },
  {
   "cell_type": "code",
   "execution_count": 1,
   "metadata": {},
   "outputs": [],
   "source": [
    "class ListNode:\n",
    "    def __init__(self, val=0, next=None):\n",
    "        self.val = val\n",
    "        self.next = next"
   ]
  },
  {
   "cell_type": "code",
   "execution_count": 2,
   "metadata": {},
   "outputs": [],
   "source": [
    "l1 = ListNode(1)\n",
    "l1.next = ListNode(2)\n",
    "l1.next.next = ListNode(3)\n",
    "l1.next.next.next = ListNode(4)\n",
    "l1.next.next.next.next = ListNode(5)"
   ]
  },
  {
   "cell_type": "code",
   "execution_count": 48,
   "metadata": {},
   "outputs": [],
   "source": [
    "class Solution:\n",
    "    def removeNthFromEnd(self, head: Optional[ListNode], n: int) -> Optional[ListNode]:\n",
    "        dummy_node = ListNode(0,head)\n",
    "\n",
    "        left = dummy_node\n",
    "        right = head \n",
    "\n",
    "        # Push the right pointer until to n nodes from the head \n",
    "        while n > 0 and right: \n",
    "            right = right.next \n",
    "            n -= 1 \n",
    "            print(f\"right {right.val}\")\n",
    "        \n",
    "\n",
    "        # Traverse the list until the right pointer reaches null\n",
    "        while right: \n",
    "            left = left.next \n",
    "            right = right.next\n",
    "\n",
    "            l1 = left.val if left else None \n",
    "            r1 = right.val if right else None \n",
    "            print(f\"left : {l1} right : {r1}\")\n",
    "\n",
    "\n",
    "        # delete the next node to the left pointer  \n",
    "        left.next = left.next.next \n",
    "\n",
    "        # Return the next of the dummy node \n",
    "        return dummy_node.next"
   ]
  },
  {
   "cell_type": "code",
   "execution_count": 49,
   "metadata": {},
   "outputs": [],
   "source": [
    "sln = Solution()"
   ]
  },
  {
   "cell_type": "code",
   "execution_count": 50,
   "metadata": {},
   "outputs": [
    {
     "name": "stdout",
     "output_type": "stream",
     "text": [
      "right 2\n",
      "right 3\n",
      "left : 1 right : 4\n",
      "left : 2 right : 5\n",
      "left : 3 right : None\n"
     ]
    },
    {
     "data": {
      "text/plain": [
       "<__main__.ListNode at 0x23e1d5f46d0>"
      ]
     },
     "execution_count": 50,
     "metadata": {},
     "output_type": "execute_result"
    }
   ],
   "source": [
    "sln.removeNthFromEnd(l1, 2)"
   ]
  },
  {
   "cell_type": "code",
   "execution_count": null,
   "metadata": {},
   "outputs": [],
   "source": []
  },
  {
   "cell_type": "code",
   "execution_count": null,
   "metadata": {},
   "outputs": [],
   "source": []
  }
 ],
 "metadata": {
  "kernelspec": {
   "display_name": "venv",
   "language": "python",
   "name": "python3"
  },
  "language_info": {
   "codemirror_mode": {
    "name": "ipython",
    "version": 3
   },
   "file_extension": ".py",
   "mimetype": "text/x-python",
   "name": "python",
   "nbconvert_exporter": "python",
   "pygments_lexer": "ipython3",
   "version": "3.8.0"
  }
 },
 "nbformat": 4,
 "nbformat_minor": 2
}
