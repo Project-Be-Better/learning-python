{
 "cells": [
  {
   "cell_type": "code",
   "execution_count": null,
   "metadata": {},
   "outputs": [],
   "source": []
  },
  {
   "cell_type": "code",
   "execution_count": 1,
   "metadata": {},
   "outputs": [],
   "source": [
    "nums1 = [1, 2, 3, 0, 0, 0]\n",
    "m = 3\n",
    "nums2 = [2, 5, 6]\n",
    "n = 3"
   ]
  },
  {
   "cell_type": "code",
   "execution_count": 2,
   "metadata": {},
   "outputs": [],
   "source": [
    "def merge(nums1: list, nums2: list, m: int, n: int):\n",
    "    # Get the pointers\n",
    "    p1 = m - 1\n",
    "    p2 = n - 1\n",
    "    p = m + n - 1\n",
    "\n",
    "    # print(nums1)\n",
    "    while p1 >= 0 and p2 >= 0 : \n",
    "\n",
    "        # print(f\"nums1 : {nums1} nums2 : {nums2} p2 : {p2}  p1/p2/p : {p1} {p2} {p}\")\n",
    "        if nums1[p1] > nums2[p2]:\n",
    "            # print(\"Picking from nums1\") \n",
    "            nums1[p] = nums1[p1]\n",
    "            p1 -= 1  \n",
    "        else:\n",
    "            # print(\"Picking from nums2\") \n",
    "            nums1[p] = nums2[p2]\n",
    "            p2 -= 1  \n",
    "        p -= 1 \n",
    "        # print(\"\")\n",
    "    while p2 >= 0 : \n",
    "        nums1[p] = nums2[p2]\n",
    "        p2 -= 1 \n",
    "        p -=1 \n",
    "    print(nums1, p1,p2,p)"
   ]
  },
  {
   "cell_type": "code",
   "execution_count": 3,
   "metadata": {},
   "outputs": [
    {
     "name": "stdout",
     "output_type": "stream",
     "text": [
      "[1, 2, 2, 3, 5, 6] 1 -1 1\n"
     ]
    }
   ],
   "source": [
    "merge(nums1,nums2,m,n)"
   ]
  },
  {
   "cell_type": "code",
   "execution_count": 4,
   "metadata": {},
   "outputs": [
    {
     "name": "stdout",
     "output_type": "stream",
     "text": [
      "[1] -1 -1 -1\n"
     ]
    }
   ],
   "source": [
    "merge([0], [1], 0, 1)"
   ]
  },
  {
   "cell_type": "code",
   "execution_count": 5,
   "metadata": {},
   "outputs": [
    {
     "name": "stdout",
     "output_type": "stream",
     "text": [
      "[0] 0 -1 0\n"
     ]
    }
   ],
   "source": [
    "merge([0], [], 1, 0)"
   ]
  },
  {
   "cell_type": "code",
   "execution_count": null,
   "metadata": {},
   "outputs": [],
   "source": []
  }
 ],
 "metadata": {
  "kernelspec": {
   "display_name": "venv",
   "language": "python",
   "name": "python3"
  },
  "language_info": {
   "codemirror_mode": {
    "name": "ipython",
    "version": 3
   },
   "file_extension": ".py",
   "mimetype": "text/x-python",
   "name": "python",
   "nbconvert_exporter": "python",
   "pygments_lexer": "ipython3",
   "version": "3.8.0"
  }
 },
 "nbformat": 4,
 "nbformat_minor": 2
}
