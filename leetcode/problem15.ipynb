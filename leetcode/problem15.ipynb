{
 "cells": [
  {
   "cell_type": "code",
   "execution_count": 1,
   "metadata": {},
   "outputs": [],
   "source": [
    "arr = [-1,0,1,2,-1,-4]"
   ]
  },
  {
   "cell_type": "code",
   "execution_count": 54,
   "metadata": {},
   "outputs": [],
   "source": [
    "def threeSum(nums):\n",
    "    res = [] \n",
    "    nums.sort()\n",
    "    print(nums)\n",
    "\n",
    "    for index, num in enumerate(nums):\n",
    "        # If the number on the left is the same as the previous number, skip\n",
    "        if index > 0 and nums[index-1] == num:\n",
    "            print(\"Skipping : \",num)\n",
    "            continue\n",
    "\n",
    "        # Using two pointers\n",
    "        left,right = index + 1, len(nums) - 1 \n",
    "\n",
    "        while left < right: \n",
    "            three_sum = num + nums[left] + nums[right]\n",
    "\n",
    "            if three_sum > 0: # the number is higher on the right \n",
    "                right -= 1 \n",
    "            elif three_sum < 0 : # the number on the left is low, so increase \n",
    "                left += 1 \n",
    "            else: #three_sum == 0: \n",
    "                print(\"threesum : \", three_sum, num,\": \",num, nums[left], nums[right])\n",
    "                res.append([num,nums[left],nums[right]])\n",
    "                left += 1 \n",
    "\n",
    "                while left < right and nums[left] == nums[left-1]:\n",
    "                    left += 1 \n",
    "\n",
    "\n",
    "    # print(res)\n",
    "    #  Skip duplicate\n",
    "    return res "
   ]
  },
  {
   "cell_type": "code",
   "execution_count": 55,
   "metadata": {},
   "outputs": [
    {
     "name": "stdout",
     "output_type": "stream",
     "text": [
      "[-4, -1, -1, 0, 1, 2]\n",
      "threesum :  0 -1 :  -1 -1 2\n",
      "threesum :  0 -1 :  -1 0 1\n",
      "Skipping :  -1\n"
     ]
    },
    {
     "data": {
      "text/plain": [
       "[[-1, -1, 2], [-1, 0, 1]]"
      ]
     },
     "execution_count": 55,
     "metadata": {},
     "output_type": "execute_result"
    }
   ],
   "source": [
    "threeSum(arr)"
   ]
  },
  {
   "cell_type": "code",
   "execution_count": null,
   "metadata": {},
   "outputs": [],
   "source": []
  }
 ],
 "metadata": {
  "kernelspec": {
   "display_name": ".venv",
   "language": "python",
   "name": "python3"
  },
  "language_info": {
   "codemirror_mode": {
    "name": "ipython",
    "version": 3
   },
   "file_extension": ".py",
   "mimetype": "text/x-python",
   "name": "python",
   "nbconvert_exporter": "python",
   "pygments_lexer": "ipython3",
   "version": "3.12.3"
  }
 },
 "nbformat": 4,
 "nbformat_minor": 2
}
