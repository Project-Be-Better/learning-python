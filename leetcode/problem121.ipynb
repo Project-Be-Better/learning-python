{
 "cells": [
  {
   "cell_type": "code",
   "execution_count": 1,
   "metadata": {},
   "outputs": [],
   "source": [
    "from typing import List"
   ]
  },
  {
   "cell_type": "code",
   "execution_count": 36,
   "metadata": {},
   "outputs": [],
   "source": [
    "def max_profit(prices: List[int]) -> int:\n",
    "    buy, sell = 0, 1\n",
    "    max_p = 0\n",
    "\n",
    "    while sell < len(prices): \n",
    "\n",
    "        profit = prices[sell] - prices[buy]\n",
    "\n",
    "        if profit > 0 : \n",
    "            max_p = max(max_p,profit)\n",
    "        else: \n",
    "            buy = sell \n",
    "\n",
    "        # Move the pointer right for the sell\n",
    "        sell += 1  \n",
    "\n",
    "        print(\"buy :\", buy, \"sell :\", sell, \"profit :\", max_p)\n",
    "\n",
    "    return max_p"
   ]
  },
  {
   "cell_type": "code",
   "execution_count": 43,
   "metadata": {},
   "outputs": [
    {
     "name": "stdout",
     "output_type": "stream",
     "text": [
      "buy : 1 sell : 2 profit : 0\n",
      "buy : 2 sell : 3 profit : 0\n",
      "buy : 2 sell : 4 profit : 1\n",
      "buy : 2 sell : 5 profit : 2\n",
      "buy : 5 sell : 6 profit : 2\n",
      "buy : 5 sell : 7 profit : 2\n",
      "buy : 5 sell : 8 profit : 2\n",
      "buy : 5 sell : 9 profit : 3\n",
      "buy : 5 sell : 10 profit : 4\n",
      "buy : 5 sell : 11 profit : 5\n",
      "buy : 5 sell : 12 profit : 5\n"
     ]
    },
    {
     "data": {
      "text/plain": [
       "5"
      ]
     },
     "execution_count": 43,
     "metadata": {},
     "output_type": "execute_result"
    }
   ],
   "source": [
    "max_profit([5,2,1,2,3,1,2,3,4,5,6,6])"
   ]
  },
  {
   "cell_type": "code",
   "execution_count": null,
   "metadata": {},
   "outputs": [],
   "source": []
  }
 ],
 "metadata": {
  "kernelspec": {
   "display_name": ".venv",
   "language": "python",
   "name": "python3"
  },
  "language_info": {
   "codemirror_mode": {
    "name": "ipython",
    "version": 3
   },
   "file_extension": ".py",
   "mimetype": "text/x-python",
   "name": "python",
   "nbconvert_exporter": "python",
   "pygments_lexer": "ipython3",
   "version": "3.12.3"
  }
 },
 "nbformat": 4,
 "nbformat_minor": 2
}
