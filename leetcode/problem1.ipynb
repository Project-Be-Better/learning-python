{
 "cells": [
  {
   "cell_type": "markdown",
   "metadata": {},
   "source": [
    "Given an array of integers nums and an integer target, return indices of the two numbers such that they add up to target.\n",
    "\n",
    "You may assume that each input would have exactly one solution, and you may not use the same element twice.\n",
    "\n",
    "You can return the answer in any order.\n",
    "\n",
    "\n",
    "```py\n",
    "Input: nums = [2,7,11,15], target = 9\n",
    "Output: [0,1]\n",
    "Explanation: Because nums[0] + nums[1] == 9, we return [0, 1].\n",
    "\n",
    "Input: nums = [3,2,4], target = 6\n",
    "Output: [1,2]\n",
    "\n",
    "Input: nums = [3,3], target = 6\n",
    "Output: [0,1]\n",
    "```\n"
   ]
  },
  {
   "cell_type": "code",
   "execution_count": 18,
   "metadata": {},
   "outputs": [],
   "source": [
    "def two_sum(nums:list, target:int):\n",
    "    \"\"\"\n",
    "    Given an array of integers nums and an integer target, return indices of the two numbers such that they add up to target.\n",
    "    \"\"\"\n",
    "\n",
    "    complement_dict = {} \n",
    "\n",
    "    for i, num in enumerate(nums):\n",
    "\n",
    "        # Find the complement of the query wrt to numer\n",
    "        complement = target - num \n",
    "        \n",
    "        if complement in complement_dict: \n",
    "            return [i,complement_dict[complement]]\n",
    "        \n",
    "        complement_dict[num] = i\n",
    "\n",
    "        print(f\"index : {i} num : {num} complement : {complement} map : {complement_dict}\")\n",
    "    \n",
    "    return [] \n",
    "\n"
   ]
  },
  {
   "cell_type": "code",
   "execution_count": 19,
   "metadata": {},
   "outputs": [
    {
     "name": "stdout",
     "output_type": "stream",
     "text": [
      "index : 0 num : 2 complement : 11 map : {2: 0}\n",
      "index : 1 num : 7 complement : 6 map : {2: 0, 7: 1}\n"
     ]
    },
    {
     "data": {
      "text/plain": [
       "('Success', [2, 0])"
      ]
     },
     "execution_count": 19,
     "metadata": {},
     "output_type": "execute_result"
    }
   ],
   "source": [
    "two_sum([2, 7, 11, 15],13)"
   ]
  },
  {
   "cell_type": "code",
   "execution_count": 13,
   "metadata": {},
   "outputs": [
    {
     "data": {
      "text/plain": [
       "' \\n1. Enumerate over the array \\n2. Check if \\n\\n'"
      ]
     },
     "execution_count": 13,
     "metadata": {},
     "output_type": "execute_result"
    }
   ],
   "source": [
    "# 1. State the problem clearly. Identify the input & output formats.\n",
    "\n",
    "\"\"\" \n",
    "Given an array of numbers, find two numbers that can be added to return the target \n",
    "\"\"\"\n",
    "\n",
    "\n",
    "# 2. Come up with some example inputs & outputs. Try to cover all edge cases.\n",
    "\n",
    "\"\"\"\n",
    "Input: nums = [2,7,11,15], target = 9\n",
    "Output: [0,1]\n",
    "Explanation: Because nums[0] + nums[1] == 9, we return [0, 1]\n",
    "\n",
    "Input: nums = [3,2,4], target = 6\n",
    "Output: [1,2]\n",
    "\n",
    "Input: nums = [3,3], target = 6\n",
    "Output: [0,1]\n",
    "\"\"\"\n",
    "\n",
    "# 3. Come up with a correct solution for the problem. State it in plain English.\n",
    "\n",
    "\"\"\" \n",
    "1. Create a Hashmap called complement dict \n",
    "2. Enumerate over the array and calculate complement \n",
    "3. Check if the complement is in the complement dict \n",
    "    3.1 If does not exist, add the number to the complement dict with the index and value \n",
    "4. If no values are found, [] is returned \n",
    "\n",
    "\"\"\"\n",
    "\n",
    "\n",
    "# 4. Implement the solution and test it using example inputs. Fix bugs, if any.\n",
    "# 5. Analyze the algorithm's complexity and identify inefficiencies, if any.\n",
    "# 6. Apply the right technique to overcome the inefficiency. Repeat steps 3 to 6."
   ]
  },
  {
   "cell_type": "code",
   "execution_count": null,
   "metadata": {},
   "outputs": [],
   "source": []
  }
 ],
 "metadata": {
  "kernelspec": {
   "display_name": "venv",
   "language": "python",
   "name": "python3"
  },
  "language_info": {
   "codemirror_mode": {
    "name": "ipython",
    "version": 3
   },
   "file_extension": ".py",
   "mimetype": "text/x-python",
   "name": "python",
   "nbconvert_exporter": "python",
   "pygments_lexer": "ipython3",
   "version": "3.8.0"
  }
 },
 "nbformat": 4,
 "nbformat_minor": 2
}
