{
 "cells": [
  {
   "cell_type": "markdown",
   "id": "5e73fbeb",
   "metadata": {},
   "source": [
    "# Introduction to Python\n",
    "\n",
    "<a target=\"_blank\" href=\"https://colab.research.google.com/github/intro-stat-learning/ISLP_labs/blob/v2.2/Ch02-statlearn-lab.ipynb\">\n",
    "<img src=\"https://colab.research.google.com/assets/colab-badge.svg\" alt=\"Open In Colab\"/>\n",
    "</a>\n",
    "\n",
    "[![Binder](https://mybinder.org/badge_logo.svg)](https://mybinder.org/v2/gh/intro-stat-learning/ISLP_labs/v2.2?labpath=Ch02-statlearn-lab.ipynb)\n",
    "\n",
    "\n",
    "\n"
   ]
  },
  {
   "cell_type": "markdown",
   "id": "9ae31f31",
   "metadata": {},
   "source": [
    "## Getting Started"
   ]
  },
  {
   "cell_type": "markdown",
   "id": "98c4959b",
   "metadata": {},
   "source": [
    "To run the labs in this book, you will need two things:\n",
    "\n",
    "* An installation of `Python3`, which is the specific version of `Python`  used in the labs. \n",
    "* Access to  `Jupyter`, a very popular `Python` interface that runs code through a file called a *notebook*. "
   ]
  },
  {
   "cell_type": "markdown",
   "id": "a9c0b1e2",
   "metadata": {},
   "source": [
    "You can download and install  `Python3`   by following the instructions available at [anaconda.com](http://anaconda.com). "
   ]
  },
  {
   "cell_type": "markdown",
   "id": "e19ec913",
   "metadata": {},
   "source": [
    " There are a number of ways to get access to `Jupyter`. Here are just a few:\n",
    " \n",
    " * Using Google's `Colaboratory` service: [colab.research.google.com/](https://colab.research.google.com/). \n",
    " * Using `JupyterHub`, available at [jupyter.org/hub](https://jupyter.org/hub). \n",
    " * Using your own `jupyter` installation. Installation instructions are available at [jupyter.org/install](https://jupyter.org/install). \n",
    " \n",
    "Please see the `Python` resources page on the book website [statlearning.com](https://www.statlearning.com) for up-to-date information about getting `Python` and `Jupyter` working on your computer. \n",
    "\n",
    "You will need to install the `ISLP` package, which provides access to the datasets and custom-built functions that we provide.\n",
    "Inside a macOS or Linux terminal type `pip install ISLP`; this also installs most other packages needed in the labs. The `Python` resources page has a link to the `ISLP` documentation website.\n",
    "\n",
    "To run this lab, download the file `Ch2-statlearn-lab.ipynb` from the `Python` resources page. \n",
    "Now run the following code at the command line: `jupyter lab Ch2-statlearn-lab.ipynb`.\n",
    "\n",
    "If you're using Windows, you can use the `start menu` to access `anaconda`, and follow the links. For example, to install `ISLP` and run this lab, you can run the same code above in an `anaconda` shell.\n"
   ]
  },
  {
   "cell_type": "markdown",
   "id": "9906b040",
   "metadata": {},
   "source": [
    "## Basic Commands\n"
   ]
  },
  {
   "cell_type": "markdown",
   "id": "2ad3c8c1",
   "metadata": {},
   "source": [
    "In this lab, we will introduce some simple `Python` commands. \n",
    " For more resources about `Python` in general, readers may want to consult the tutorial at [docs.python.org/3/tutorial/](https://docs.python.org/3/tutorial/). \n",
    "\n",
    "\n",
    " \n"
   ]
  },
  {
   "cell_type": "markdown",
   "id": "b67a6a2a",
   "metadata": {},
   "source": [
    "Like most programming languages, `Python` uses *functions*\n",
    "to perform operations.   To run a\n",
    "function called `fun`, we type\n",
    "`fun(input1,input2)`, where the inputs (or *arguments*)\n",
    "`input1` and `input2` tell\n",
    "`Python` how to run the function.  A function can have any number of\n",
    "inputs. For example, the\n",
    "`print()`  function outputs a text representation of all of its arguments to the console."
   ]
  },
  {
   "cell_type": "code",
   "execution_count": 1,
   "id": "13be547e",
   "metadata": {
    "execution": {
     "iopub.execute_input": "2024-06-05T01:13:21.501766Z",
     "iopub.status.busy": "2024-06-05T01:13:21.501683Z",
     "iopub.status.idle": "2024-06-05T01:13:21.505368Z",
     "shell.execute_reply": "2024-06-05T01:13:21.505103Z"
    }
   },
   "outputs": [
    {
     "name": "stdout",
     "output_type": "stream",
     "text": [
      "fit a model with 11 variables\n"
     ]
    }
   ],
   "source": [
    "print('fit a model with', 11, 'variables')\n"
   ]
  },
  {
   "cell_type": "markdown",
   "id": "01c5778d",
   "metadata": {},
   "source": [
    " The following command will provide information about the `print()` function."
   ]
  },
  {
   "cell_type": "code",
   "execution_count": 2,
   "id": "9eb79b74",
   "metadata": {
    "execution": {
     "iopub.execute_input": "2024-06-05T01:13:21.506820Z",
     "iopub.status.busy": "2024-06-05T01:13:21.506738Z",
     "iopub.status.idle": "2024-06-05T01:13:21.524623Z",
     "shell.execute_reply": "2024-06-05T01:13:21.524324Z"
    }
   },
   "outputs": [
    {
     "name": "stdout",
     "output_type": "stream",
     "text": [
      "\u001b[1;31mSignature:\u001b[0m \u001b[0mprint\u001b[0m\u001b[1;33m(\u001b[0m\u001b[1;33m*\u001b[0m\u001b[0margs\u001b[0m\u001b[1;33m,\u001b[0m \u001b[0msep\u001b[0m\u001b[1;33m=\u001b[0m\u001b[1;34m' '\u001b[0m\u001b[1;33m,\u001b[0m \u001b[0mend\u001b[0m\u001b[1;33m=\u001b[0m\u001b[1;34m'\\n'\u001b[0m\u001b[1;33m,\u001b[0m \u001b[0mfile\u001b[0m\u001b[1;33m=\u001b[0m\u001b[1;32mNone\u001b[0m\u001b[1;33m,\u001b[0m \u001b[0mflush\u001b[0m\u001b[1;33m=\u001b[0m\u001b[1;32mFalse\u001b[0m\u001b[1;33m)\u001b[0m\u001b[1;33m\u001b[0m\u001b[1;33m\u001b[0m\u001b[0m\n",
      "\u001b[1;31mDocstring:\u001b[0m\n",
      "Prints the values to a stream, or to sys.stdout by default.\n",
      "\n",
      "sep\n",
      "  string inserted between values, default a space.\n",
      "end\n",
      "  string appended after the last value, default a newline.\n",
      "file\n",
      "  a file-like object (stream); defaults to the current sys.stdout.\n",
      "flush\n",
      "  whether to forcibly flush the stream.\n",
      "\u001b[1;31mType:\u001b[0m      builtin_function_or_method"
     ]
    }
   ],
   "source": [
    "print?\n"
   ]
  },
  {
   "cell_type": "markdown",
   "id": "e2a8dcaa",
   "metadata": {},
   "source": [
    "Adding two integers in `Python` is pretty intuitive."
   ]
  },
  {
   "cell_type": "code",
   "execution_count": 3,
   "id": "0fb04362",
   "metadata": {
    "execution": {
     "iopub.execute_input": "2024-06-05T01:13:21.526184Z",
     "iopub.status.busy": "2024-06-05T01:13:21.526075Z",
     "iopub.status.idle": "2024-06-05T01:13:21.528792Z",
     "shell.execute_reply": "2024-06-05T01:13:21.528551Z"
    }
   },
   "outputs": [
    {
     "data": {
      "text/plain": [
       "8"
      ]
     },
     "execution_count": 3,
     "metadata": {},
     "output_type": "execute_result"
    }
   ],
   "source": [
    "3 + 5\n"
   ]
  },
  {
   "cell_type": "markdown",
   "id": "df9134a7",
   "metadata": {},
   "source": [
    "In `Python`, textual data is handled using\n",
    "*strings*. For instance, `\"hello\"` and\n",
    "`'hello'`\n",
    "are strings. \n",
    "We can concatenate them using the addition `+` symbol."
   ]
  },
  {
   "cell_type": "code",
   "execution_count": 4,
   "id": "e69d158e",
   "metadata": {
    "execution": {
     "iopub.execute_input": "2024-06-05T01:13:21.530311Z",
     "iopub.status.busy": "2024-06-05T01:13:21.530195Z",
     "iopub.status.idle": "2024-06-05T01:13:21.532255Z",
     "shell.execute_reply": "2024-06-05T01:13:21.532042Z"
    }
   },
   "outputs": [
    {
     "data": {
      "text/plain": [
       "'hello world'"
      ]
     },
     "execution_count": 4,
     "metadata": {},
     "output_type": "execute_result"
    }
   ],
   "source": [
    "\"hello\" + \" \" + \"world\"\n"
   ]
  },
  {
   "cell_type": "markdown",
   "id": "19c59ca8",
   "metadata": {},
   "source": [
    " A string is actually a type of *sequence*: this is a generic term for an ordered list. \n",
    " The three most important types of sequences are lists, tuples, and strings.  \n",
    "We introduce lists now. "
   ]
  },
  {
   "cell_type": "markdown",
   "id": "54a3ab31",
   "metadata": {},
   "source": [
    "The following command instructs `Python` to join together\n",
    "the numbers 3, 4, and 5, and to save them as a\n",
    "*list* named `x`. When we\n",
    "type `x`, it gives us back the list."
   ]
  },
  {
   "cell_type": "code",
   "execution_count": 5,
   "id": "469b6873",
   "metadata": {
    "execution": {
     "iopub.execute_input": "2024-06-05T01:13:21.533676Z",
     "iopub.status.busy": "2024-06-05T01:13:21.533604Z",
     "iopub.status.idle": "2024-06-05T01:13:21.535708Z",
     "shell.execute_reply": "2024-06-05T01:13:21.535479Z"
    }
   },
   "outputs": [
    {
     "data": {
      "text/plain": [
       "[3, 4, 5]"
      ]
     },
     "execution_count": 5,
     "metadata": {},
     "output_type": "execute_result"
    }
   ],
   "source": [
    "x = [3, 4, 5]\n",
    "x\n"
   ]
  },
  {
   "cell_type": "markdown",
   "id": "f7b82627",
   "metadata": {},
   "source": [
    "Note that we used the brackets\n",
    "`[]` to construct this list. \n",
    "\n",
    "We will often want to add two sets of numbers together. It is reasonable to try the following code,\n",
    "though it will not produce the desired results."
   ]
  },
  {
   "cell_type": "code",
   "execution_count": 6,
   "id": "8bcb5c5b",
   "metadata": {
    "execution": {
     "iopub.execute_input": "2024-06-05T01:13:21.536964Z",
     "iopub.status.busy": "2024-06-05T01:13:21.536889Z",
     "iopub.status.idle": "2024-06-05T01:13:21.539316Z",
     "shell.execute_reply": "2024-06-05T01:13:21.539007Z"
    }
   },
   "outputs": [
    {
     "data": {
      "text/plain": [
       "[3, 4, 5, 4, 9, 7]"
      ]
     },
     "execution_count": 6,
     "metadata": {},
     "output_type": "execute_result"
    }
   ],
   "source": [
    "y = [4, 9, 7]\n",
    "x + y\n"
   ]
  },
  {
   "cell_type": "markdown",
   "id": "845910be",
   "metadata": {},
   "source": [
    "The result may appear slightly counterintuitive: why did `Python` not add the entries of the lists\n",
    "element-by-element? \n",
    " In `Python`, lists hold *arbitrary* objects, and  are added using  *concatenation*. \n",
    " In fact, concatenation is the behavior that we saw earlier when we entered `\"hello\" + \" \" + \"world\"`. \n",
    " "
   ]
  },
  {
   "cell_type": "markdown",
   "id": "71c69dd1",
   "metadata": {},
   "source": [
    "This example reflects the fact that \n",
    " `Python` is a general-purpose programming language. Much of `Python`'s  data-specific\n",
    "functionality comes from other packages, notably `numpy`\n",
    "and `pandas`. \n",
    "In the next section, we will introduce the  `numpy` package. \n",
    "See [docs.scipy.org/doc/numpy/user/quickstart.html](https://docs.scipy.org/doc/numpy/user/quickstart.html) for more information about `numpy`.\n"
   ]
  },
  {
   "cell_type": "markdown",
   "id": "9659f008",
   "metadata": {},
   "source": [
    "## Introduction to Numerical Python\n",
    "\n",
    "As mentioned earlier, this book makes use of functionality   that is contained in the `numpy` \n",
    " *library*, or *package*. A package is a collection of modules that are not necessarily included in \n",
    " the base `Python` distribution. The name `numpy` is an abbreviation for *numerical Python*. "
   ]
  },
  {
   "cell_type": "markdown",
   "id": "0bdfdebb",
   "metadata": {},
   "source": [
    "  To access `numpy`, we must first `import` it."
   ]
  },
  {
   "cell_type": "code",
   "execution_count": 7,
   "id": "ac55fedf",
   "metadata": {
    "execution": {
     "iopub.execute_input": "2024-06-05T01:13:21.541265Z",
     "iopub.status.busy": "2024-06-05T01:13:21.541131Z",
     "iopub.status.idle": "2024-06-05T01:13:21.623379Z",
     "shell.execute_reply": "2024-06-05T01:13:21.610113Z"
    },
    "lines_to_next_cell": 0
   },
   "outputs": [],
   "source": [
    "import numpy as np "
   ]
  },
  {
   "cell_type": "markdown",
   "id": "092028f8",
   "metadata": {},
   "source": [
    "In the previous line, we named the `numpy` *module* `np`; an abbreviation for easier referencing."
   ]
  },
  {
   "cell_type": "markdown",
   "id": "4f513f46",
   "metadata": {},
   "source": [
    "In `numpy`, an *array* is  a generic term for a multidimensional\n",
    "set of numbers.\n",
    "We use the `np.array()` function to define   `x` and `y`, which are one-dimensional arrays, i.e. vectors."
   ]
  },
  {
   "cell_type": "code",
   "execution_count": 8,
   "id": "c4d9f140",
   "metadata": {
    "execution": {
     "iopub.execute_input": "2024-06-05T01:13:21.637526Z",
     "iopub.status.busy": "2024-06-05T01:13:21.637154Z",
     "iopub.status.idle": "2024-06-05T01:13:21.640699Z",
     "shell.execute_reply": "2024-06-05T01:13:21.640168Z"
    },
    "lines_to_next_cell": 0
   },
   "outputs": [],
   "source": [
    "x = np.array([3, 4, 5])\n",
    "y = np.array([4, 9, 7])"
   ]
  },
  {
   "cell_type": "markdown",
   "id": "16e9ebc2",
   "metadata": {},
   "source": [
    "Note that if you forgot to run the `import numpy as np` command earlier, then\n",
    "you will encounter an error in calling the `np.array()` function in the previous line. \n",
    " The syntax `np.array()` indicates that the function being called\n",
    "is part of the `numpy` package, which we have abbreviated as `np`. "
   ]
  },
  {
   "cell_type": "markdown",
   "id": "1a8239ac",
   "metadata": {},
   "source": [
    "Since `x` and `y` have been defined using `np.array()`, we get a sensible result when we add them together. Compare this to our results in the previous section,\n",
    " when we tried to add two lists without using `numpy`. "
   ]
  },
  {
   "cell_type": "code",
   "execution_count": 9,
   "id": "106ef1ea",
   "metadata": {
    "execution": {
     "iopub.execute_input": "2024-06-05T01:13:21.644348Z",
     "iopub.status.busy": "2024-06-05T01:13:21.643939Z",
     "iopub.status.idle": "2024-06-05T01:13:21.647973Z",
     "shell.execute_reply": "2024-06-05T01:13:21.647309Z"
    },
    "lines_to_next_cell": 0
   },
   "outputs": [
    {
     "data": {
      "text/plain": [
       "array([ 7, 13, 12])"
      ]
     },
     "execution_count": 9,
     "metadata": {},
     "output_type": "execute_result"
    }
   ],
   "source": [
    "x + y"
   ]
  },
  {
   "cell_type": "markdown",
   "id": "0135aa6b",
   "metadata": {},
   "source": [
    "    \n",
    " \n"
   ]
  },
  {
   "cell_type": "markdown",
   "id": "865711ef",
   "metadata": {},
   "source": [
    "In `numpy`, matrices are typically represented as two-dimensional arrays, and vectors as one-dimensional arrays. {While it is also possible to create matrices using  `np.matrix()`, we will use `np.array()` throughout the labs in this book.}\n",
    "We can create a two-dimensional array as follows. "
   ]
  },
  {
   "cell_type": "code",
   "execution_count": 10,
   "id": "d111ed03",
   "metadata": {
    "execution": {
     "iopub.execute_input": "2024-06-05T01:13:21.654955Z",
     "iopub.status.busy": "2024-06-05T01:13:21.654830Z",
     "iopub.status.idle": "2024-06-05T01:13:21.658607Z",
     "shell.execute_reply": "2024-06-05T01:13:21.658268Z"
    },
    "lines_to_next_cell": 0
   },
   "outputs": [
    {
     "data": {
      "text/plain": [
       "array([[1, 2],\n",
       "       [3, 4]])"
      ]
     },
     "execution_count": 10,
     "metadata": {},
     "output_type": "execute_result"
    }
   ],
   "source": [
    "x = np.array([[1, 2], [3, 4]])\n",
    "x"
   ]
  },
  {
   "cell_type": "markdown",
   "id": "b8e25756",
   "metadata": {},
   "source": [
    "    \n",
    "\n"
   ]
  },
  {
   "cell_type": "markdown",
   "id": "be9f88c2",
   "metadata": {},
   "source": [
    "The object `x` has several \n",
    "*attributes*, or associated objects. To access an attribute of `x`, we type `x.attribute`, where we replace `attribute`\n",
    "with the name of the attribute. \n",
    "For instance, we can access the `ndim` attribute of  `x` as follows. "
   ]
  },
  {
   "cell_type": "code",
   "execution_count": 11,
   "id": "d9562687",
   "metadata": {
    "execution": {
     "iopub.execute_input": "2024-06-05T01:13:21.662782Z",
     "iopub.status.busy": "2024-06-05T01:13:21.662526Z",
     "iopub.status.idle": "2024-06-05T01:13:21.665986Z",
     "shell.execute_reply": "2024-06-05T01:13:21.665545Z"
    }
   },
   "outputs": [
    {
     "data": {
      "text/plain": [
       "2"
      ]
     },
     "execution_count": 11,
     "metadata": {},
     "output_type": "execute_result"
    }
   ],
   "source": [
    "x.ndim"
   ]
  },
  {
   "cell_type": "code",
   "execution_count": 12,
   "id": "0a6b2436",
   "metadata": {},
   "outputs": [
    {
     "data": {
      "text/plain": [
       "dtype('int32')"
      ]
     },
     "execution_count": 12,
     "metadata": {},
     "output_type": "execute_result"
    }
   ],
   "source": [
    "x.dtype"
   ]
  },
  {
   "cell_type": "markdown",
   "id": "e7384a93",
   "metadata": {},
   "source": [
    "The output indicates that `x` is a two-dimensional array.  \n",
    "Similarly, `x.dtype` is the *data type* attribute of the object `x`. This indicates that `x` is \n",
    "comprised of 64-bit integers:"
   ]
  },
  {
   "cell_type": "code",
   "execution_count": 13,
   "id": "4fe5b7cf",
   "metadata": {
    "execution": {
     "iopub.execute_input": "2024-06-05T01:13:21.669473Z",
     "iopub.status.busy": "2024-06-05T01:13:21.668930Z",
     "iopub.status.idle": "2024-06-05T01:13:21.673438Z",
     "shell.execute_reply": "2024-06-05T01:13:21.672894Z"
    },
    "lines_to_next_cell": 0
   },
   "outputs": [
    {
     "data": {
      "text/plain": [
       "dtype('int32')"
      ]
     },
     "execution_count": 13,
     "metadata": {},
     "output_type": "execute_result"
    }
   ],
   "source": [
    "x.dtype"
   ]
  },
  {
   "cell_type": "markdown",
   "id": "94c2f16a",
   "metadata": {},
   "source": [
    "Why is `x` comprised of integers? This is because we created `x` by passing in exclusively integers to the `np.array()` function.\n",
    "  If\n",
    "we had passed in any decimals, then we would have obtained an array of\n",
    "*floating point numbers* (i.e. real-valued numbers). "
   ]
  },
  {
   "cell_type": "code",
   "execution_count": 14,
   "id": "c4c43c7d",
   "metadata": {
    "execution": {
     "iopub.execute_input": "2024-06-05T01:13:21.676213Z",
     "iopub.status.busy": "2024-06-05T01:13:21.676017Z",
     "iopub.status.idle": "2024-06-05T01:13:21.679945Z",
     "shell.execute_reply": "2024-06-05T01:13:21.679456Z"
    },
    "lines_to_next_cell": 2
   },
   "outputs": [
    {
     "data": {
      "text/plain": [
       "dtype('float64')"
      ]
     },
     "execution_count": 14,
     "metadata": {},
     "output_type": "execute_result"
    }
   ],
   "source": [
    "np.array([[1, 2], [3.0, 4]]).dtype\n"
   ]
  },
  {
   "cell_type": "markdown",
   "id": "fba26223",
   "metadata": {},
   "source": [
    "Typing `fun?` will cause `Python` to display \n",
    "documentation associated with the function `fun`, if it exists.\n",
    "We can try this for `np.array()`. "
   ]
  },
  {
   "cell_type": "code",
   "execution_count": 15,
   "id": "62851cb3",
   "metadata": {
    "execution": {
     "iopub.execute_input": "2024-06-05T01:13:21.682591Z",
     "iopub.status.busy": "2024-06-05T01:13:21.682418Z",
     "iopub.status.idle": "2024-06-05T01:13:21.685681Z",
     "shell.execute_reply": "2024-06-05T01:13:21.685193Z"
    },
    "lines_to_next_cell": 0
   },
   "outputs": [
    {
     "name": "stdout",
     "output_type": "stream",
     "text": [
      "\u001b[1;31mDocstring:\u001b[0m\n",
      "array(object, dtype=None, *, copy=True, order='K', subok=False, ndmin=0,\n",
      "      like=None)\n",
      "\n",
      "Create an array.\n",
      "\n",
      "Parameters\n",
      "----------\n",
      "object : array_like\n",
      "    An array, any object exposing the array interface, an object whose\n",
      "    ``__array__`` method returns an array, or any (nested) sequence.\n",
      "    If object is a scalar, a 0-dimensional array containing object is\n",
      "    returned.\n",
      "dtype : data-type, optional\n",
      "    The desired data-type for the array. If not given, NumPy will try to use\n",
      "    a default ``dtype`` that can represent the values (by applying promotion\n",
      "    rules when necessary.)\n",
      "copy : bool, optional\n",
      "    If true (default), then the object is copied.  Otherwise, a copy will\n",
      "    only be made if ``__array__`` returns a copy, if obj is a nested\n",
      "    sequence, or if a copy is needed to satisfy any of the other\n",
      "    requirements (``dtype``, ``order``, etc.).\n",
      "order : {'K', 'A', 'C', 'F'}, optional\n",
      "    Specify the memory layout of the array. If object is not an array, the\n",
      "    newly created array will be in C order (row major) unless 'F' is\n",
      "    specified, in which case it will be in Fortran order (column major).\n",
      "    If object is an array the following holds.\n",
      "\n",
      "    ===== ========= ===================================================\n",
      "    order  no copy                     copy=True\n",
      "    ===== ========= ===================================================\n",
      "    'K'   unchanged F & C order preserved, otherwise most similar order\n",
      "    'A'   unchanged F order if input is F and not C, otherwise C order\n",
      "    'C'   C order   C order\n",
      "    'F'   F order   F order\n",
      "    ===== ========= ===================================================\n",
      "\n",
      "    When ``copy=False`` and a copy is made for other reasons, the result is\n",
      "    the same as if ``copy=True``, with some exceptions for 'A', see the\n",
      "    Notes section. The default order is 'K'.\n",
      "subok : bool, optional\n",
      "    If True, then sub-classes will be passed-through, otherwise\n",
      "    the returned array will be forced to be a base-class array (default).\n",
      "ndmin : int, optional\n",
      "    Specifies the minimum number of dimensions that the resulting\n",
      "    array should have.  Ones will be prepended to the shape as\n",
      "    needed to meet this requirement.\n",
      "like : array_like, optional\n",
      "    Reference object to allow the creation of arrays which are not\n",
      "    NumPy arrays. If an array-like passed in as ``like`` supports\n",
      "    the ``__array_function__`` protocol, the result will be defined\n",
      "    by it. In this case, it ensures the creation of an array object\n",
      "    compatible with that passed in via this argument.\n",
      "\n",
      "    .. versionadded:: 1.20.0\n",
      "\n",
      "Returns\n",
      "-------\n",
      "out : ndarray\n",
      "    An array object satisfying the specified requirements.\n",
      "\n",
      "See Also\n",
      "--------\n",
      "empty_like : Return an empty array with shape and type of input.\n",
      "ones_like : Return an array of ones with shape and type of input.\n",
      "zeros_like : Return an array of zeros with shape and type of input.\n",
      "full_like : Return a new array with shape of input filled with value.\n",
      "empty : Return a new uninitialized array.\n",
      "ones : Return a new array setting values to one.\n",
      "zeros : Return a new array setting values to zero.\n",
      "full : Return a new array of given shape filled with value.\n",
      "\n",
      "\n",
      "Notes\n",
      "-----\n",
      "When order is 'A' and ``object`` is an array in neither 'C' nor 'F' order,\n",
      "and a copy is forced by a change in dtype, then the order of the result is\n",
      "not necessarily 'C' as expected. This is likely a bug.\n",
      "\n",
      "Examples\n",
      "--------\n",
      ">>> np.array([1, 2, 3])\n",
      "array([1, 2, 3])\n",
      "\n",
      "Upcasting:\n",
      "\n",
      ">>> np.array([1, 2, 3.0])\n",
      "array([ 1.,  2.,  3.])\n",
      "\n",
      "More than one dimension:\n",
      "\n",
      ">>> np.array([[1, 2], [3, 4]])\n",
      "array([[1, 2],\n",
      "       [3, 4]])\n",
      "\n",
      "Minimum dimensions 2:\n",
      "\n",
      ">>> np.array([1, 2, 3], ndmin=2)\n",
      "array([[1, 2, 3]])\n",
      "\n",
      "Type provided:\n",
      "\n",
      ">>> np.array([1, 2, 3], dtype=complex)\n",
      "array([ 1.+0.j,  2.+0.j,  3.+0.j])\n",
      "\n",
      "Data-type consisting of more than one element:\n",
      "\n",
      ">>> x = np.array([(1,2),(3,4)],dtype=[('a','<i4'),('b','<i4')])\n",
      ">>> x['a']\n",
      "array([1, 3])\n",
      "\n",
      "Creating an array from sub-classes:\n",
      "\n",
      ">>> np.array(np.mat('1 2; 3 4'))\n",
      "array([[1, 2],\n",
      "       [3, 4]])\n",
      "\n",
      ">>> np.array(np.mat('1 2; 3 4'), subok=True)\n",
      "matrix([[1, 2],\n",
      "        [3, 4]])\n",
      "\u001b[1;31mType:\u001b[0m      builtin_function_or_method"
     ]
    }
   ],
   "source": [
    "np.array?\n"
   ]
  },
  {
   "cell_type": "markdown",
   "id": "d89ca747",
   "metadata": {},
   "source": [
    "This documentation indicates that we could create a floating point array by passing a `dtype` argument into `np.array()`."
   ]
  },
  {
   "cell_type": "code",
   "execution_count": 16,
   "id": "816dac08",
   "metadata": {
    "execution": {
     "iopub.execute_input": "2024-06-05T01:13:21.688520Z",
     "iopub.status.busy": "2024-06-05T01:13:21.688302Z",
     "iopub.status.idle": "2024-06-05T01:13:21.692577Z",
     "shell.execute_reply": "2024-06-05T01:13:21.692040Z"
    },
    "lines_to_next_cell": 2
   },
   "outputs": [
    {
     "data": {
      "text/plain": [
       "dtype('float64')"
      ]
     },
     "execution_count": 16,
     "metadata": {},
     "output_type": "execute_result"
    }
   ],
   "source": [
    "np.array([[1, 2], [3, 4]], float).dtype\n"
   ]
  },
  {
   "cell_type": "markdown",
   "id": "8e640e48",
   "metadata": {},
   "source": [
    "The array `x` is two-dimensional. We can find out the number of rows and columns by looking\n",
    "at its `shape` attribute."
   ]
  },
  {
   "cell_type": "code",
   "execution_count": 17,
   "id": "9a81115b",
   "metadata": {
    "execution": {
     "iopub.execute_input": "2024-06-05T01:13:21.695300Z",
     "iopub.status.busy": "2024-06-05T01:13:21.695057Z",
     "iopub.status.idle": "2024-06-05T01:13:21.698705Z",
     "shell.execute_reply": "2024-06-05T01:13:21.698186Z"
    },
    "lines_to_next_cell": 2
   },
   "outputs": [
    {
     "data": {
      "text/plain": [
       "(2, 2)"
      ]
     },
     "execution_count": 17,
     "metadata": {},
     "output_type": "execute_result"
    }
   ],
   "source": [
    "x.shape\n"
   ]
  },
  {
   "cell_type": "markdown",
   "id": "af33afab",
   "metadata": {},
   "source": [
    "A *method* is a function that is associated with an\n",
    "object. \n",
    "For instance, given an array `x`, the expression\n",
    "`x.sum()` sums all of its elements, using the `sum()`\n",
    "method for arrays. \n",
    "The call `x.sum()` automatically provides `x` as the\n",
    "first argument to its `sum()` method."
   ]
  },
  {
   "cell_type": "code",
   "execution_count": 18,
   "id": "8f051245",
   "metadata": {
    "execution": {
     "iopub.execute_input": "2024-06-05T01:13:21.701395Z",
     "iopub.status.busy": "2024-06-05T01:13:21.701161Z",
     "iopub.status.idle": "2024-06-05T01:13:21.705627Z",
     "shell.execute_reply": "2024-06-05T01:13:21.705062Z"
    },
    "lines_to_next_cell": 0
   },
   "outputs": [
    {
     "data": {
      "text/plain": [
       "10"
      ]
     },
     "execution_count": 18,
     "metadata": {},
     "output_type": "execute_result"
    }
   ],
   "source": [
    "x = np.array([1, 2, 3, 4])\n",
    "x.sum()"
   ]
  },
  {
   "cell_type": "markdown",
   "id": "dac9e21a",
   "metadata": {},
   "source": [
    "We could also sum the elements of `x` by passing in `x` as an argument to the `np.sum()` function. "
   ]
  },
  {
   "cell_type": "code",
   "execution_count": 19,
   "id": "906c3a0e",
   "metadata": {
    "execution": {
     "iopub.execute_input": "2024-06-05T01:13:21.708607Z",
     "iopub.status.busy": "2024-06-05T01:13:21.708219Z",
     "iopub.status.idle": "2024-06-05T01:13:21.712557Z",
     "shell.execute_reply": "2024-06-05T01:13:21.712089Z"
    },
    "lines_to_next_cell": 0
   },
   "outputs": [
    {
     "data": {
      "text/plain": [
       "10"
      ]
     },
     "execution_count": 19,
     "metadata": {},
     "output_type": "execute_result"
    }
   ],
   "source": [
    "x = np.array([1, 2, 3, 4])\n",
    "np.sum(x)"
   ]
  },
  {
   "cell_type": "markdown",
   "id": "699724d1",
   "metadata": {},
   "source": [
    " As another example, the\n",
    "`reshape()` method returns a new array with the same elements as\n",
    "`x`, but a different shape.\n",
    " We do this by passing in a `tuple` in our call to\n",
    " `reshape()`, in this case `(2, 3)`.  This tuple specifies that we would like to create a two-dimensional array with \n",
    "$2$ rows and $3$ columns. {Like lists, tuples represent a sequence of objects. Why do we need more than one way to create a sequence? There are a few differences between tuples and lists, but perhaps the most important is that elements of a tuple cannot be modified, whereas elements of a list can be.}\n",
    " \n",
    "In what follows, the\n",
    "`\\n` character creates a *new line*."
   ]
  },
  {
   "cell_type": "code",
   "execution_count": 20,
   "id": "e8b8d6db",
   "metadata": {
    "execution": {
     "iopub.execute_input": "2024-06-05T01:13:21.715524Z",
     "iopub.status.busy": "2024-06-05T01:13:21.715284Z",
     "iopub.status.idle": "2024-06-05T01:13:21.719375Z",
     "shell.execute_reply": "2024-06-05T01:13:21.718798Z"
    }
   },
   "outputs": [
    {
     "name": "stdout",
     "output_type": "stream",
     "text": [
      "beginning x:\n",
      " [1 2 3 4 5 6]\n",
      "reshaped x:\n",
      " [[1 2 3]\n",
      " [4 5 6]]\n"
     ]
    }
   ],
   "source": [
    "x = np.array([1, 2, 3, 4, 5, 6])\n",
    "print('beginning x:\\n', x)\n",
    "x_reshape = x.reshape((2, 3))\n",
    "print('reshaped x:\\n', x_reshape)\n"
   ]
  },
  {
   "cell_type": "markdown",
   "id": "1ac636e5",
   "metadata": {},
   "source": [
    "The previous output reveals that `numpy` arrays are specified as a sequence\n",
    "of *rows*. This is  called *row-major ordering*, as opposed to *column-major ordering*. "
   ]
  },
  {
   "cell_type": "markdown",
   "id": "0dbc4613",
   "metadata": {},
   "source": [
    "`Python` (and hence `numpy`) uses 0-based\n",
    "indexing. This means that to access the top left element of `x_reshape`, \n",
    "we type in `x_reshape[0,0]`."
   ]
  },
  {
   "cell_type": "code",
   "execution_count": 21,
   "id": "47c39f33",
   "metadata": {
    "execution": {
     "iopub.execute_input": "2024-06-05T01:13:21.723002Z",
     "iopub.status.busy": "2024-06-05T01:13:21.722758Z",
     "iopub.status.idle": "2024-06-05T01:13:21.726457Z",
     "shell.execute_reply": "2024-06-05T01:13:21.725971Z"
    },
    "lines_to_next_cell": 0
   },
   "outputs": [
    {
     "data": {
      "text/plain": [
       "1"
      ]
     },
     "execution_count": 21,
     "metadata": {},
     "output_type": "execute_result"
    }
   ],
   "source": [
    "x_reshape[0, 0] "
   ]
  },
  {
   "cell_type": "markdown",
   "id": "883bc5b3",
   "metadata": {},
   "source": [
    "Similarly, `x_reshape[1,2]` yields the element in the second row and the third column \n",
    "of `x_reshape`. "
   ]
  },
  {
   "cell_type": "code",
   "execution_count": 22,
   "id": "d74a5638",
   "metadata": {
    "execution": {
     "iopub.execute_input": "2024-06-05T01:13:21.729274Z",
     "iopub.status.busy": "2024-06-05T01:13:21.729045Z",
     "iopub.status.idle": "2024-06-05T01:13:21.733265Z",
     "shell.execute_reply": "2024-06-05T01:13:21.732407Z"
    },
    "lines_to_next_cell": 0
   },
   "outputs": [
    {
     "data": {
      "text/plain": [
       "6"
      ]
     },
     "execution_count": 22,
     "metadata": {},
     "output_type": "execute_result"
    }
   ],
   "source": [
    "x_reshape[1, 2] "
   ]
  },
  {
   "cell_type": "markdown",
   "id": "4ff98255",
   "metadata": {},
   "source": [
    "Similarly, `x[2]` yields the\n",
    "third entry of `x`. \n",
    "\n",
    "Now, let's modify the top left element of `x_reshape`.  To our surprise, we discover that the first element of `x` has been modified as well!\n",
    "\n"
   ]
  },
  {
   "cell_type": "code",
   "execution_count": 23,
   "id": "5a19217f",
   "metadata": {
    "execution": {
     "iopub.execute_input": "2024-06-05T01:13:21.737696Z",
     "iopub.status.busy": "2024-06-05T01:13:21.737395Z",
     "iopub.status.idle": "2024-06-05T01:13:21.742687Z",
     "shell.execute_reply": "2024-06-05T01:13:21.741342Z"
    }
   },
   "outputs": [
    {
     "name": "stdout",
     "output_type": "stream",
     "text": [
      "x before we modify x_reshape:\n",
      " [1 2 3 4 5 6]\n",
      "x_reshape before we modify x_reshape:\n",
      " [[1 2 3]\n",
      " [4 5 6]]\n",
      "x_reshape after we modify its top left element:\n",
      " [[5 2 3]\n",
      " [4 5 6]]\n",
      "x after we modify top left element of x_reshape:\n",
      " [5 2 3 4 5 6]\n"
     ]
    }
   ],
   "source": [
    "print('x before we modify x_reshape:\\n', x)\n",
    "print('x_reshape before we modify x_reshape:\\n', x_reshape)\n",
    "x_reshape[0, 0] = 5\n",
    "print('x_reshape after we modify its top left element:\\n', x_reshape)\n",
    "print('x after we modify top left element of x_reshape:\\n', x)\n"
   ]
  },
  {
   "cell_type": "markdown",
   "id": "027b7f16",
   "metadata": {},
   "source": [
    "Modifying `x_reshape` also modified `x` because the two objects occupy the same space in memory.\n",
    " \n",
    "\n",
    "    "
   ]
  },
  {
   "cell_type": "markdown",
   "id": "ea7dec33",
   "metadata": {},
   "source": [
    "We just saw that we can modify an element of an array. Can we also modify a tuple? It turns out that we cannot --- and trying to do so introduces\n",
    "an *exception*, or error."
   ]
  },
  {
   "cell_type": "code",
   "execution_count": 24,
   "id": "116ec7b8",
   "metadata": {
    "execution": {
     "iopub.execute_input": "2024-06-05T01:13:21.749078Z",
     "iopub.status.busy": "2024-06-05T01:13:21.748796Z",
     "iopub.status.idle": "2024-06-05T01:13:21.837133Z",
     "shell.execute_reply": "2024-06-05T01:13:21.836870Z"
    },
    "lines_to_next_cell": 2
   },
   "outputs": [
    {
     "ename": "TypeError",
     "evalue": "'tuple' object does not support item assignment",
     "output_type": "error",
     "traceback": [
      "\u001b[1;31m---------------------------------------------------------------------------\u001b[0m",
      "\u001b[1;31mTypeError\u001b[0m                                 Traceback (most recent call last)",
      "Cell \u001b[1;32mIn[24], line 2\u001b[0m\n\u001b[0;32m      1\u001b[0m my_tuple \u001b[38;5;241m=\u001b[39m (\u001b[38;5;241m3\u001b[39m, \u001b[38;5;241m4\u001b[39m, \u001b[38;5;241m5\u001b[39m)\n\u001b[1;32m----> 2\u001b[0m \u001b[43mmy_tuple\u001b[49m\u001b[43m[\u001b[49m\u001b[38;5;241;43m0\u001b[39;49m\u001b[43m]\u001b[49m \u001b[38;5;241m=\u001b[39m \u001b[38;5;241m2\u001b[39m\n",
      "\u001b[1;31mTypeError\u001b[0m: 'tuple' object does not support item assignment"
     ]
    }
   ],
   "source": [
    "my_tuple = (3, 4, 5)\n",
    "my_tuple[0] = 2\n"
   ]
  },
  {
   "cell_type": "markdown",
   "id": "484ae7d1",
   "metadata": {},
   "source": [
    "We now briefly mention some attributes of arrays that will come in handy. An array's `shape` attribute contains its dimension; this is always a tuple.\n",
    "The  `ndim` attribute yields the number of dimensions, and `T` provides its transpose. "
   ]
  },
  {
   "cell_type": "code",
   "execution_count": 25,
   "id": "ec5dc91e",
   "metadata": {
    "execution": {
     "iopub.execute_input": "2024-06-05T01:13:21.838869Z",
     "iopub.status.busy": "2024-06-05T01:13:21.838746Z",
     "iopub.status.idle": "2024-06-05T01:13:21.840973Z",
     "shell.execute_reply": "2024-06-05T01:13:21.840747Z"
    }
   },
   "outputs": [
    {
     "data": {
      "text/plain": [
       "((2, 3),\n",
       " 2,\n",
       " array([[5, 4],\n",
       "        [2, 5],\n",
       "        [3, 6]]))"
      ]
     },
     "execution_count": 25,
     "metadata": {},
     "output_type": "execute_result"
    }
   ],
   "source": [
    "x_reshape.shape, x_reshape.ndim, x_reshape.T\n"
   ]
  },
  {
   "cell_type": "markdown",
   "id": "a7aa0555",
   "metadata": {},
   "source": [
    "Notice that the three individual outputs `(2,3)`, `2`, and `array([[5, 4],[2, 5], [3,6]])` are themselves output as a tuple. \n",
    " \n",
    "We will often want to apply functions to arrays. \n",
    "For instance, we can compute the\n",
    "square root of the entries using the `np.sqrt()` function: "
   ]
  },
  {
   "cell_type": "code",
   "execution_count": 26,
   "id": "31fbaf86",
   "metadata": {
    "execution": {
     "iopub.execute_input": "2024-06-05T01:13:21.842256Z",
     "iopub.status.busy": "2024-06-05T01:13:21.842155Z",
     "iopub.status.idle": "2024-06-05T01:13:21.844341Z",
     "shell.execute_reply": "2024-06-05T01:13:21.844095Z"
    }
   },
   "outputs": [
    {
     "data": {
      "text/plain": [
       "array([2.23606798, 1.41421356, 1.73205081, 2.        , 2.23606798,\n",
       "       2.44948974])"
      ]
     },
     "execution_count": 26,
     "metadata": {},
     "output_type": "execute_result"
    }
   ],
   "source": [
    "np.sqrt(x)\n"
   ]
  },
  {
   "cell_type": "markdown",
   "id": "83bd2725",
   "metadata": {},
   "source": [
    "We can also square the elements:"
   ]
  },
  {
   "cell_type": "code",
   "execution_count": 27,
   "id": "c0e63f89",
   "metadata": {
    "execution": {
     "iopub.execute_input": "2024-06-05T01:13:21.845842Z",
     "iopub.status.busy": "2024-06-05T01:13:21.845683Z",
     "iopub.status.idle": "2024-06-05T01:13:21.847796Z",
     "shell.execute_reply": "2024-06-05T01:13:21.847578Z"
    }
   },
   "outputs": [
    {
     "data": {
      "text/plain": [
       "array([25,  4,  9, 16, 25, 36])"
      ]
     },
     "execution_count": 27,
     "metadata": {},
     "output_type": "execute_result"
    }
   ],
   "source": [
    "x**2\n"
   ]
  },
  {
   "cell_type": "markdown",
   "id": "bc4bfbf4",
   "metadata": {},
   "source": [
    "We can compute the square roots using the same notation, raising to the power of $1/2$ instead of 2."
   ]
  },
  {
   "cell_type": "code",
   "execution_count": 28,
   "id": "365d1248",
   "metadata": {
    "execution": {
     "iopub.execute_input": "2024-06-05T01:13:21.848925Z",
     "iopub.status.busy": "2024-06-05T01:13:21.848841Z",
     "iopub.status.idle": "2024-06-05T01:13:21.850823Z",
     "shell.execute_reply": "2024-06-05T01:13:21.850640Z"
    },
    "lines_to_next_cell": 2
   },
   "outputs": [
    {
     "data": {
      "text/plain": [
       "array([2.23606798, 1.41421356, 1.73205081, 2.        , 2.23606798,\n",
       "       2.44948974])"
      ]
     },
     "execution_count": 28,
     "metadata": {},
     "output_type": "execute_result"
    }
   ],
   "source": [
    "x**0.5\n"
   ]
  },
  {
   "cell_type": "markdown",
   "id": "ae4a5f89",
   "metadata": {},
   "source": [
    "Throughout this book, we will often want to generate random data. \n",
    "The `np.random.normal()`  function generates a vector of random\n",
    "normal variables. We can learn more about this function by looking at the help page, via a call to `np.random.normal?`.\n",
    "The first line of the help page  reads `normal(loc=0.0, scale=1.0, size=None)`. \n",
    " This  *signature* line tells us that the function's arguments are  `loc`, `scale`, and `size`. These are *keyword* arguments, which means that when they are passed into\n",
    " the function, they can be referred to by name (in any order). {`Python` also uses *positional* arguments. Positional arguments do not need to use a keyword. To see an example, type in `np.sum?`. We see that `a` is a positional argument, i.e. this function assumes that the first unnamed argument that it receives is the array to be summed. By contrast, `axis` and `dtype` are keyword arguments: the position in which these arguments are entered into `np.sum()` does not matter.}\n",
    " By default, this function will generate random normal variable(s) with mean (`loc`) $0$ and standard deviation (`scale`) $1$; furthermore, \n",
    " a single random variable will be generated unless the argument to `size` is changed. \n",
    "\n",
    "We now generate 50 independent random variables from a $N(0,1)$ distribution. "
   ]
  },
  {
   "cell_type": "code",
   "execution_count": 29,
   "id": "e2756bb9",
   "metadata": {
    "execution": {
     "iopub.execute_input": "2024-06-05T01:13:21.852136Z",
     "iopub.status.busy": "2024-06-05T01:13:21.852038Z",
     "iopub.status.idle": "2024-06-05T01:13:21.854307Z",
     "shell.execute_reply": "2024-06-05T01:13:21.854071Z"
    }
   },
   "outputs": [
    {
     "data": {
      "text/plain": [
       "array([ 1.03665199, -0.50959197, -0.44914329, -0.21419658,  0.73314346,\n",
       "        0.2421422 ,  1.90879432,  1.52779187, -1.21114562,  0.33963618,\n",
       "       -1.52279023, -0.92076282, -0.78307711, -0.35952464, -0.2635845 ,\n",
       "       -0.94251963, -0.02544056,  0.00367266, -0.91643768, -0.65442388,\n",
       "        2.25771633,  0.85717128,  0.15771901,  0.4438497 ,  0.52481099,\n",
       "       -0.16409645, -0.09223453,  1.268917  , -0.2302145 , -1.62211086,\n",
       "        0.5137755 , -1.79603198, -0.99940997,  1.70941437, -1.33810219,\n",
       "       -2.22680911, -0.45188317,  1.59771706,  0.07703324,  1.2448719 ,\n",
       "       -0.48893499, -0.14374654,  0.54466821, -0.40942364, -0.26894527,\n",
       "       -0.23215284,  0.20000633,  1.12800635,  1.78743215, -1.15880062])"
      ]
     },
     "execution_count": 29,
     "metadata": {},
     "output_type": "execute_result"
    }
   ],
   "source": [
    "x = np.random.normal(size=50)\n",
    "x\n"
   ]
  },
  {
   "cell_type": "markdown",
   "id": "3ede7b52",
   "metadata": {},
   "source": [
    "We create an array `y` by adding an independent $N(50,1)$ random variable to each element of `x`."
   ]
  },
  {
   "cell_type": "code",
   "execution_count": 30,
   "id": "d336dde1",
   "metadata": {
    "execution": {
     "iopub.execute_input": "2024-06-05T01:13:21.856931Z",
     "iopub.status.busy": "2024-06-05T01:13:21.856831Z",
     "iopub.status.idle": "2024-06-05T01:13:21.858521Z",
     "shell.execute_reply": "2024-06-05T01:13:21.858270Z"
    },
    "lines_to_next_cell": 0
   },
   "outputs": [],
   "source": [
    "y = x + np.random.normal(loc=50, scale=1, size=50)"
   ]
  },
  {
   "cell_type": "markdown",
   "id": "53428bb4",
   "metadata": {},
   "source": [
    "The `np.corrcoef()` function computes the correlation matrix between `x` and `y`. The off-diagonal elements give the \n",
    "correlation between `x` and `y`. "
   ]
  },
  {
   "cell_type": "code",
   "execution_count": 33,
   "id": "9b78856d",
   "metadata": {},
   "outputs": [
    {
     "data": {
      "text/plain": [
       "array([50.4804339 , 50.37346827, 49.10197317, 50.2783519 , 50.80942328,\n",
       "       49.12319393, 51.4057779 , 51.15685634, 50.40658057, 50.01647894,\n",
       "       50.7299047 , 50.87895605, 49.8839963 , 49.70594927, 50.55849348,\n",
       "       49.92377334, 49.71305178, 51.45777148, 49.04602051, 49.10826746,\n",
       "       50.82244416, 50.68266866, 50.9984667 , 49.1649471 , 50.40590876,\n",
       "       48.76708158, 51.05867731, 51.61449912, 49.71924045, 48.18448956,\n",
       "       50.21231039, 47.8139675 , 47.8772286 , 51.31646321, 50.52570724,\n",
       "       48.04533228, 50.36302266, 51.00931294, 50.36009695, 51.59156695,\n",
       "       50.88084309, 51.0477581 , 49.61443189, 49.96484461, 48.67261733,\n",
       "       50.25793243, 50.86978525, 51.48512247, 52.30693538, 48.29654764])"
      ]
     },
     "execution_count": 33,
     "metadata": {},
     "output_type": "execute_result"
    }
   ],
   "source": [
    "y"
   ]
  },
  {
   "cell_type": "code",
   "execution_count": 31,
   "id": "cad26f2b",
   "metadata": {
    "execution": {
     "iopub.execute_input": "2024-06-05T01:13:21.859935Z",
     "iopub.status.busy": "2024-06-05T01:13:21.859837Z",
     "iopub.status.idle": "2024-06-05T01:13:21.861977Z",
     "shell.execute_reply": "2024-06-05T01:13:21.861747Z"
    }
   },
   "outputs": [
    {
     "data": {
      "text/plain": [
       "array([[1.        , 0.65531908],\n",
       "       [0.65531908, 1.        ]])"
      ]
     },
     "execution_count": 31,
     "metadata": {},
     "output_type": "execute_result"
    }
   ],
   "source": [
    "np.corrcoef(x, y)"
   ]
  },
  {
   "cell_type": "markdown",
   "id": "69e56b17",
   "metadata": {},
   "source": [
    "If you're following along in your own `Jupyter` notebook, then you probably noticed that you got a different set of results when you ran the past few \n",
    "commands. In particular, \n",
    " each\n",
    "time we call `np.random.normal()`, we will get a different answer, as shown in the following example."
   ]
  },
  {
   "cell_type": "code",
   "execution_count": 32,
   "id": "a621aa6c",
   "metadata": {
    "execution": {
     "iopub.execute_input": "2024-06-05T01:13:21.863299Z",
     "iopub.status.busy": "2024-06-05T01:13:21.863206Z",
     "iopub.status.idle": "2024-06-05T01:13:21.865015Z",
     "shell.execute_reply": "2024-06-05T01:13:21.864730Z"
    },
    "lines_to_next_cell": 0
   },
   "outputs": [
    {
     "name": "stdout",
     "output_type": "stream",
     "text": [
      "[ 3.26522064 -2.63236852]\n",
      "[-3.92820251 -6.46030485]\n"
     ]
    }
   ],
   "source": [
    "print(np.random.normal(scale=5, size=2))\n",
    "print(np.random.normal(scale=5, size=2)) \n"
   ]
  },
  {
   "cell_type": "markdown",
   "id": "ca8af484",
   "metadata": {},
   "source": [
    "    "
   ]
  },
  {
   "cell_type": "markdown",
   "id": "ab2a78f2",
   "metadata": {},
   "source": [
    "In order to ensure that our code provides exactly the same results\n",
    "each time it is run, we can set a *random seed* \n",
    "using the \n",
    "`np.random.default_rng()` function.\n",
    "This function takes an arbitrary, user-specified integer argument. If we set a random seed before \n",
    "generating random data, then re-running our code will yield the same results. The\n",
    "object `rng` has essentially all the random number generating methods found in `np.random`. Hence, to\n",
    "generate normal data we use `rng.normal()`."
   ]
  },
  {
   "cell_type": "code",
   "execution_count": 34,
   "id": "8b4cf04d",
   "metadata": {
    "execution": {
     "iopub.execute_input": "2024-06-05T01:13:21.866527Z",
     "iopub.status.busy": "2024-06-05T01:13:21.866407Z",
     "iopub.status.idle": "2024-06-05T01:13:21.868523Z",
     "shell.execute_reply": "2024-06-05T01:13:21.868290Z"
    }
   },
   "outputs": [
    {
     "name": "stdout",
     "output_type": "stream",
     "text": [
      "[ 4.09482632 -1.07485605]\n",
      "[ 4.09482632 -1.07485605]\n"
     ]
    }
   ],
   "source": [
    "rng = np.random.default_rng(1303)\n",
    "print(rng.normal(scale=5, size=2))\n",
    "rng2 = np.random.default_rng(1303)\n",
    "print(rng2.normal(scale=5, size=2)) "
   ]
  },
  {
   "cell_type": "markdown",
   "id": "e2b7be44",
   "metadata": {},
   "source": [
    "Throughout the labs in this book, we use `np.random.default_rng()`  whenever we\n",
    "perform calculations involving random quantities within `numpy`.  In principle, this\n",
    "should enable the reader to exactly reproduce the stated results. However, as new versions of `numpy` become available, it is possible\n",
    "that some small discrepancies may occur between the output\n",
    "in the labs and the output\n",
    "from `numpy`.\n",
    "\n",
    "The `np.mean()`,  `np.var()`, and `np.std()`  functions can be used\n",
    "to compute the mean, variance, and standard deviation of arrays.  These functions are also\n",
    "available as methods on the arrays."
   ]
  },
  {
   "cell_type": "code",
   "execution_count": 35,
   "id": "4b80757c",
   "metadata": {
    "execution": {
     "iopub.execute_input": "2024-06-05T01:13:21.869817Z",
     "iopub.status.busy": "2024-06-05T01:13:21.869734Z",
     "iopub.status.idle": "2024-06-05T01:13:21.871794Z",
     "shell.execute_reply": "2024-06-05T01:13:21.871580Z"
    },
    "lines_to_next_cell": 0
   },
   "outputs": [
    {
     "data": {
      "text/plain": [
       "(-0.1126795190952861, -0.1126795190952861)"
      ]
     },
     "execution_count": 35,
     "metadata": {},
     "output_type": "execute_result"
    }
   ],
   "source": [
    "rng = np.random.default_rng(3)\n",
    "y = rng.standard_normal(10)\n",
    "np.mean(y), y.mean()"
   ]
  },
  {
   "cell_type": "code",
   "execution_count": 42,
   "id": "e55f4f32",
   "metadata": {},
   "outputs": [
    {
     "data": {
      "text/plain": [
       "array([0.68279891, 0.82007575, 0.4285729 , 0.75870546])"
      ]
     },
     "execution_count": 42,
     "metadata": {},
     "output_type": "execute_result"
    }
   ],
   "source": [
    "rng.random(4)"
   ]
  },
  {
   "cell_type": "code",
   "execution_count": 43,
   "id": "c3b0231d",
   "metadata": {},
   "outputs": [
    {
     "data": {
      "text/plain": [
       "array([0.87848018, 0.10231992, 0.84976834, 0.39392733])"
      ]
     },
     "execution_count": 43,
     "metadata": {},
     "output_type": "execute_result"
    }
   ],
   "source": [
    "rng.random(4)"
   ]
  },
  {
   "cell_type": "markdown",
   "id": "89f3df11",
   "metadata": {},
   "source": [
    "    \n"
   ]
  },
  {
   "cell_type": "code",
   "execution_count": 44,
   "id": "1e06f53d",
   "metadata": {
    "execution": {
     "iopub.execute_input": "2024-06-05T01:13:21.873319Z",
     "iopub.status.busy": "2024-06-05T01:13:21.873222Z",
     "iopub.status.idle": "2024-06-05T01:13:21.875364Z",
     "shell.execute_reply": "2024-06-05T01:13:21.875114Z"
    },
    "lines_to_next_cell": 2
   },
   "outputs": [
    {
     "data": {
      "text/plain": [
       "(2.7243406406465125, 2.7243406406465125, 2.7243406406465125)"
      ]
     },
     "execution_count": 44,
     "metadata": {},
     "output_type": "execute_result"
    }
   ],
   "source": [
    "np.var(y), y.var(), np.mean((y - y.mean())**2)"
   ]
  },
  {
   "cell_type": "markdown",
   "id": "8e7619e2",
   "metadata": {},
   "source": [
    "Notice that by default `np.var()` divides by the sample size $n$ rather\n",
    "than $n-1$; see the `ddof` argument in `np.var?`.\n"
   ]
  },
  {
   "cell_type": "code",
   "execution_count": 45,
   "id": "2499a37e",
   "metadata": {
    "execution": {
     "iopub.execute_input": "2024-06-05T01:13:21.876542Z",
     "iopub.status.busy": "2024-06-05T01:13:21.876445Z",
     "iopub.status.idle": "2024-06-05T01:13:21.878423Z",
     "shell.execute_reply": "2024-06-05T01:13:21.878185Z"
    }
   },
   "outputs": [
    {
     "data": {
      "text/plain": [
       "(1.6505576756498128, 1.6505576756498128)"
      ]
     },
     "execution_count": 45,
     "metadata": {},
     "output_type": "execute_result"
    }
   ],
   "source": [
    "np.sqrt(np.var(y)), np.std(y)"
   ]
  },
  {
   "cell_type": "markdown",
   "id": "cd24656d",
   "metadata": {},
   "source": [
    "The `np.mean()`,  `np.var()`, and `np.std()` functions can also be applied to the rows and columns of a matrix. \n",
    "To see this, we construct a $10 \\times 3$ matrix of $N(0,1)$ random variables, and consider computing its row sums. "
   ]
  },
  {
   "cell_type": "code",
   "execution_count": 46,
   "id": "3c308346",
   "metadata": {
    "execution": {
     "iopub.execute_input": "2024-06-05T01:13:21.879714Z",
     "iopub.status.busy": "2024-06-05T01:13:21.879626Z",
     "iopub.status.idle": "2024-06-05T01:13:21.881633Z",
     "shell.execute_reply": "2024-06-05T01:13:21.881427Z"
    }
   },
   "outputs": [
    {
     "data": {
      "text/plain": [
       "array([[ 1.11163321, -0.20552305, -0.92589957],\n",
       "       [ 0.58405831,  0.58253842, -0.21482891],\n",
       "       [-0.78280858,  0.22915391, -2.49389428],\n",
       "       [ 0.69012477,  0.49136826, -1.63885714],\n",
       "       [ 0.06135351, -0.96409966,  0.75722104],\n",
       "       [-2.03416727, -0.91449454,  0.70957999],\n",
       "       [ 1.15640105, -2.15800538, -0.49803984],\n",
       "       [ 0.32802009, -0.60921614,  1.59064023],\n",
       "       [-1.19122668,  0.35453195, -1.04840552],\n",
       "       [ 1.40596294, -0.02165123, -0.37225056]])"
      ]
     },
     "execution_count": 46,
     "metadata": {},
     "output_type": "execute_result"
    }
   ],
   "source": [
    "X = rng.standard_normal((10, 3))\n",
    "X"
   ]
  },
  {
   "cell_type": "markdown",
   "id": "11b499e9",
   "metadata": {},
   "source": [
    "Since arrays are row-major ordered, the first axis, i.e. `axis=0`, refers to its rows. We pass this argument into the `mean()` method for the object `X`. "
   ]
  },
  {
   "cell_type": "code",
   "execution_count": 47,
   "id": "7b5e8fcd",
   "metadata": {
    "execution": {
     "iopub.execute_input": "2024-06-05T01:13:21.882917Z",
     "iopub.status.busy": "2024-06-05T01:13:21.882831Z",
     "iopub.status.idle": "2024-06-05T01:13:21.884797Z",
     "shell.execute_reply": "2024-06-05T01:13:21.884581Z"
    }
   },
   "outputs": [
    {
     "data": {
      "text/plain": [
       "array([ 0.13293513, -0.32153975, -0.41347346])"
      ]
     },
     "execution_count": 47,
     "metadata": {},
     "output_type": "execute_result"
    }
   ],
   "source": [
    "X.mean(axis=0)"
   ]
  },
  {
   "cell_type": "markdown",
   "id": "d2617ab3",
   "metadata": {},
   "source": [
    "The following yields the same result."
   ]
  },
  {
   "cell_type": "code",
   "execution_count": 48,
   "id": "157d4a21",
   "metadata": {
    "execution": {
     "iopub.execute_input": "2024-06-05T01:13:21.886134Z",
     "iopub.status.busy": "2024-06-05T01:13:21.886054Z",
     "iopub.status.idle": "2024-06-05T01:13:21.888025Z",
     "shell.execute_reply": "2024-06-05T01:13:21.887817Z"
    },
    "lines_to_next_cell": 0
   },
   "outputs": [
    {
     "data": {
      "text/plain": [
       "array([ 0.13293513, -0.32153975, -0.41347346])"
      ]
     },
     "execution_count": 48,
     "metadata": {},
     "output_type": "execute_result"
    }
   ],
   "source": [
    "X.mean(0)"
   ]
  },
  {
   "cell_type": "markdown",
   "id": "cdaef318",
   "metadata": {},
   "source": [
    "    "
   ]
  },
  {
   "cell_type": "markdown",
   "id": "e24e3949",
   "metadata": {},
   "source": [
    "## Graphics\n",
    "In `Python`, common practice is to use  the library\n",
    "`matplotlib` for graphics.\n",
    "However, since `Python` was not written with data analysis in mind,\n",
    "  the notion of plotting is not intrinsic to the language. \n",
    "We will use the `subplots()` function\n",
    "from `matplotlib.pyplot` to create a figure and the\n",
    "axes onto which we plot our data.\n",
    "For many more examples of how to make plots in `Python`,\n",
    "readers are encouraged to visit [matplotlib.org/stable/gallery/](https://matplotlib.org/stable/gallery/index.html).\n",
    "\n",
    "In `matplotlib`, a plot consists of a *figure* and one or more *axes*. You can think of the figure as the blank canvas upon which \n",
    "one or more plots will be displayed: it is the entire plotting window. \n",
    "The *axes* contain important information about each plot, such as its $x$- and $y$-axis labels,\n",
    "title,  and more. (Note that in `matplotlib`, the word *axes* is not the plural of *axis*: a plot's *axes* contains much more information \n",
    "than just the $x$-axis and  the $y$-axis.)\n",
    "\n",
    "We begin by importing the `subplots()` function\n",
    "from `matplotlib`. We use this function\n",
    "throughout when creating figures.\n",
    "The function returns a tuple of length two: a figure\n",
    "object as well as the relevant axes object. We will typically\n",
    "pass `figsize` as a keyword argument.\n",
    "Having created our axes, we attempt our first plot using its  `plot()` method.\n",
    "To learn more about it, \n",
    "type `ax.plot?`."
   ]
  },
  {
   "cell_type": "code",
   "execution_count": 49,
   "id": "8b11e94e",
   "metadata": {
    "execution": {
     "iopub.execute_input": "2024-06-05T01:13:21.889264Z",
     "iopub.status.busy": "2024-06-05T01:13:21.889168Z",
     "iopub.status.idle": "2024-06-05T01:13:22.181786Z",
     "shell.execute_reply": "2024-06-05T01:13:22.181539Z"
    }
   },
   "outputs": [
    {
     "data": {
      "image/png": "[encoded data removed]",
      "text/plain": [
       "<Figure size 800x800 with 1 Axes>"
      ]
     },
     "metadata": {},
     "output_type": "display_data"
    }
   ],
   "source": [
    "from matplotlib.pyplot import subplots\n",
    "fig, ax = subplots(figsize=(8, 8))\n",
    "x = rng.standard_normal(100)\n",
    "y = rng.standard_normal(100)\n",
    "ax.plot(x, y);\n"
   ]
  },
  {
   "cell_type": "markdown",
   "id": "fd6d918b",
   "metadata": {},
   "source": [
    "We pause here to note that we have *unpacked* the tuple of length two returned by `subplots()` into the two distinct\n",
    "variables `fig` and `ax`. Unpacking\n",
    "is typically preferred to the following equivalent but slightly more verbose code:"
   ]
  },
  {
   "cell_type": "code",
   "execution_count": null,
   "id": "04eb327c",
   "metadata": {
    "execution": {
     "iopub.execute_input": "2024-06-05T01:13:22.183312Z",
     "iopub.status.busy": "2024-06-05T01:13:22.183171Z",
     "iopub.status.idle": "2024-06-05T01:13:22.234220Z",
     "shell.execute_reply": "2024-06-05T01:13:22.233942Z"
    }
   },
   "outputs": [],
   "source": [
    "output = subplots(figsize=(8, 8))\n",
    "fig = output[0]\n",
    "ax = output[1]"
   ]
  },
  {
   "cell_type": "markdown",
   "id": "d33f0557",
   "metadata": {},
   "source": [
    "We see that our earlier cell produced a line plot, which is the default. To create a scatterplot, we provide an additional argument to `ax.plot()`, indicating that circles should be displayed."
   ]
  },
  {
   "cell_type": "code",
   "execution_count": null,
   "id": "e678d266",
   "metadata": {
    "execution": {
     "iopub.execute_input": "2024-06-05T01:13:22.235936Z",
     "iopub.status.busy": "2024-06-05T01:13:22.235832Z",
     "iopub.status.idle": "2024-06-05T01:13:22.288490Z",
     "shell.execute_reply": "2024-06-05T01:13:22.288148Z"
    },
    "lines_to_next_cell": 0
   },
   "outputs": [],
   "source": [
    "fig, ax = subplots(figsize=(8, 8))\n",
    "ax.plot(x, y, 'o');"
   ]
  },
  {
   "cell_type": "markdown",
   "id": "63ca64a5",
   "metadata": {},
   "source": [
    "Different values\n",
    "of this additional argument can be used to produce different colored lines\n",
    "as well as different linestyles. \n"
   ]
  },
  {
   "cell_type": "markdown",
   "id": "aae16908",
   "metadata": {},
   "source": [
    "As an alternative, we could use the  `ax.scatter()` function to create a scatterplot."
   ]
  },
  {
   "cell_type": "code",
   "execution_count": null,
   "id": "b4cff8b7",
   "metadata": {
    "execution": {
     "iopub.execute_input": "2024-06-05T01:13:22.290146Z",
     "iopub.status.busy": "2024-06-05T01:13:22.290040Z",
     "iopub.status.idle": "2024-06-05T01:13:22.347902Z",
     "shell.execute_reply": "2024-06-05T01:13:22.347605Z"
    }
   },
   "outputs": [],
   "source": [
    "fig, ax = subplots(figsize=(8, 8))\n",
    "ax.scatter(x, y, marker='o');"
   ]
  },
  {
   "cell_type": "markdown",
   "id": "00287305",
   "metadata": {},
   "source": [
    "Notice that in the code blocks above, we have ended\n",
    "the last line with a semicolon. This prevents `ax.plot(x, y)` from printing\n",
    "text  to the notebook. However, it does not prevent a plot from being produced. \n",
    " If we omit the trailing semi-colon, then we obtain the following output:  "
   ]
  },
  {
   "cell_type": "code",
   "execution_count": null,
   "id": "9e59d427",
   "metadata": {
    "execution": {
     "iopub.execute_input": "2024-06-05T01:13:22.349518Z",
     "iopub.status.busy": "2024-06-05T01:13:22.349396Z",
     "iopub.status.idle": "2024-06-05T01:13:22.406731Z",
     "shell.execute_reply": "2024-06-05T01:13:22.406399Z"
    },
    "lines_to_next_cell": 0
   },
   "outputs": [],
   "source": [
    "fig, ax = subplots(figsize=(8, 8))\n",
    "ax.scatter(x, y, marker='o')\n"
   ]
  },
  {
   "cell_type": "markdown",
   "id": "a429c138",
   "metadata": {},
   "source": [
    "In what follows, we will use\n",
    " trailing semicolons whenever the text that would be output is not\n",
    "germane to the discussion at hand.\n",
    "\n",
    "\n",
    "\n"
   ]
  },
  {
   "cell_type": "markdown",
   "id": "c1ca1f34",
   "metadata": {},
   "source": [
    "To label our plot, we  make use of the `set_xlabel()`,  `set_ylabel()`, and  `set_title()` methods\n",
    "of `ax`.\n",
    "  "
   ]
  },
  {
   "cell_type": "code",
   "execution_count": null,
   "id": "c7408ab0",
   "metadata": {
    "execution": {
     "iopub.execute_input": "2024-06-05T01:13:22.408463Z",
     "iopub.status.busy": "2024-06-05T01:13:22.408338Z",
     "iopub.status.idle": "2024-06-05T01:13:22.474709Z",
     "shell.execute_reply": "2024-06-05T01:13:22.474398Z"
    }
   },
   "outputs": [],
   "source": [
    "fig, ax = subplots(figsize=(8, 8))\n",
    "ax.scatter(x, y, marker='o')\n",
    "ax.set_xlabel(\"this is the x-axis\")\n",
    "ax.set_ylabel(\"this is the y-axis\")\n",
    "ax.set_title(\"Plot of X vs Y\");"
   ]
  },
  {
   "cell_type": "markdown",
   "id": "7628bbf3",
   "metadata": {},
   "source": [
    " Having access to the figure object `fig` itself means that we can go in and change some aspects and then redisplay it. Here, we change\n",
    "  the size from `(8, 8)` to `(12, 3)`.\n"
   ]
  },
  {
   "cell_type": "code",
   "execution_count": null,
   "id": "52bac447",
   "metadata": {
    "execution": {
     "iopub.execute_input": "2024-06-05T01:13:22.476314Z",
     "iopub.status.busy": "2024-06-05T01:13:22.476169Z",
     "iopub.status.idle": "2024-06-05T01:13:22.519810Z",
     "shell.execute_reply": "2024-06-05T01:13:22.519505Z"
    },
    "lines_to_next_cell": 0
   },
   "outputs": [],
   "source": [
    "fig.set_size_inches(12,3)\n",
    "fig"
   ]
  },
  {
   "cell_type": "markdown",
   "id": "607babe6",
   "metadata": {},
   "source": [
    " "
   ]
  },
  {
   "cell_type": "markdown",
   "id": "647f6b09",
   "metadata": {},
   "source": [
    "Occasionally we will want to create several plots within a figure. This can be\n",
    "achieved by passing additional arguments to `subplots()`. \n",
    "Below, we create a  $2 \\times 3$ grid of plots\n",
    "in a figure of size determined by the `figsize` argument. In such\n",
    "situations, there is often a relationship between the axes in the plots. For example,\n",
    "all plots may have a common $x$-axis. The `subplots()` function can automatically handle\n",
    "this situation when passed the keyword argument `sharex=True`.\n",
    "The `axes` object below is an array pointing to different plots in the figure. "
   ]
  },
  {
   "cell_type": "code",
   "execution_count": null,
   "id": "0e4d4d4e",
   "metadata": {
    "execution": {
     "iopub.execute_input": "2024-06-05T01:13:22.521455Z",
     "iopub.status.busy": "2024-06-05T01:13:22.521350Z",
     "iopub.status.idle": "2024-06-05T01:13:22.684396Z",
     "shell.execute_reply": "2024-06-05T01:13:22.684070Z"
    },
    "lines_to_next_cell": 0
   },
   "outputs": [],
   "source": [
    "fig, axes = subplots(nrows=2,\n",
    "                     ncols=3,\n",
    "                     figsize=(15, 5))"
   ]
  },
  {
   "cell_type": "markdown",
   "id": "ef1848a8",
   "metadata": {},
   "source": [
    "We now produce a scatter plot with `'o'` in the second column of the first row and\n",
    "a scatter plot with `'+'` in the third column of the second row."
   ]
  },
  {
   "cell_type": "code",
   "execution_count": null,
   "id": "12d9932f",
   "metadata": {
    "execution": {
     "iopub.execute_input": "2024-06-05T01:13:22.685979Z",
     "iopub.status.busy": "2024-06-05T01:13:22.685854Z",
     "iopub.status.idle": "2024-06-05T01:13:22.795331Z",
     "shell.execute_reply": "2024-06-05T01:13:22.795034Z"
    },
    "lines_to_next_cell": 0
   },
   "outputs": [],
   "source": [
    "axes[0,1].plot(x, y, 'o')\n",
    "axes[1,2].scatter(x, y, marker='+')\n",
    "fig"
   ]
  },
  {
   "cell_type": "markdown",
   "id": "f52da11d",
   "metadata": {},
   "source": [
    "Type  `subplots?` to learn more about \n",
    "`subplots()`. \n",
    "\n",
    "\n"
   ]
  },
  {
   "cell_type": "markdown",
   "id": "79a27e69",
   "metadata": {},
   "source": [
    "To save the output of `fig`, we call its `savefig()`\n",
    "method. The argument `dpi` is the dots per inch, used\n",
    "to determine how large the figure will be in pixels."
   ]
  },
  {
   "cell_type": "code",
   "execution_count": null,
   "id": "17d46f32",
   "metadata": {
    "execution": {
     "iopub.execute_input": "2024-06-05T01:13:22.797136Z",
     "iopub.status.busy": "2024-06-05T01:13:22.796912Z",
     "iopub.status.idle": "2024-06-05T01:13:23.632356Z",
     "shell.execute_reply": "2024-06-05T01:13:23.632085Z"
    },
    "lines_to_next_cell": 2
   },
   "outputs": [],
   "source": [
    "fig.savefig(\"Figure.png\", dpi=400)\n",
    "fig.savefig(\"Figure.pdf\", dpi=200);\n"
   ]
  },
  {
   "cell_type": "markdown",
   "id": "21e9bb0a",
   "metadata": {},
   "source": [
    "We can continue to modify `fig` using step-by-step updates; for example, we can modify the range of the $x$-axis, re-save the figure, and even re-display it. "
   ]
  },
  {
   "cell_type": "code",
   "execution_count": null,
   "id": "24a361a3",
   "metadata": {
    "execution": {
     "iopub.execute_input": "2024-06-05T01:13:23.634325Z",
     "iopub.status.busy": "2024-06-05T01:13:23.634128Z",
     "iopub.status.idle": "2024-06-05T01:13:23.779590Z",
     "shell.execute_reply": "2024-06-05T01:13:23.779218Z"
    }
   },
   "outputs": [],
   "source": [
    "axes[0,1].set_xlim([-1,1])\n",
    "fig.savefig(\"Figure_updated.jpg\")\n",
    "fig"
   ]
  },
  {
   "cell_type": "markdown",
   "id": "88168a08",
   "metadata": {},
   "source": [
    "We now create some more sophisticated plots. The \n",
    "`ax.contour()` method  produces a  *contour plot* \n",
    "in order to represent three-dimensional data, similar to a\n",
    "topographical map.  It takes three arguments:\n",
    "\n",
    "* A vector of `x` values (the first dimension),\n",
    "* A vector of `y` values (the second dimension), and\n",
    "* A matrix whose elements correspond to the `z` value (the third\n",
    "dimension) for each pair of `(x,y)` coordinates.\n",
    "\n",
    "To create `x` and `y`, we’ll use the command  `np.linspace(a, b, n)`, \n",
    "which returns a vector of `n` numbers starting at  `a` and  ending at `b`."
   ]
  },
  {
   "cell_type": "code",
   "execution_count": null,
   "id": "facce2ec",
   "metadata": {
    "execution": {
     "iopub.execute_input": "2024-06-05T01:13:23.781448Z",
     "iopub.status.busy": "2024-06-05T01:13:23.781337Z",
     "iopub.status.idle": "2024-06-05T01:13:23.857834Z",
     "shell.execute_reply": "2024-06-05T01:13:23.857499Z"
    },
    "lines_to_next_cell": 0
   },
   "outputs": [],
   "source": [
    "fig, ax = subplots(figsize=(8, 8))\n",
    "x = np.linspace(-np.pi, np.pi, 50)\n",
    "y = x\n",
    "f = np.multiply.outer(np.cos(y), 1 / (1 + x**2))\n",
    "ax.contour(x, y, f);\n"
   ]
  },
  {
   "cell_type": "markdown",
   "id": "343fd149",
   "metadata": {},
   "source": [
    "We can increase the resolution by adding more levels to the image."
   ]
  },
  {
   "cell_type": "code",
   "execution_count": null,
   "id": "1683862d",
   "metadata": {
    "execution": {
     "iopub.execute_input": "2024-06-05T01:13:23.859532Z",
     "iopub.status.busy": "2024-06-05T01:13:23.859411Z",
     "iopub.status.idle": "2024-06-05T01:13:23.979913Z",
     "shell.execute_reply": "2024-06-05T01:13:23.979583Z"
    },
    "lines_to_next_cell": 0
   },
   "outputs": [],
   "source": [
    "fig, ax = subplots(figsize=(8, 8))\n",
    "ax.contour(x, y, f, levels=45);"
   ]
  },
  {
   "cell_type": "markdown",
   "id": "afe1e3a4",
   "metadata": {},
   "source": [
    "To fine-tune the output of the\n",
    "`ax.contour()`  function, take a\n",
    "look at the help file by typing `?plt.contour`.\n",
    " \n",
    "The `ax.imshow()`  method is similar to \n",
    "`ax.contour()`, except that it produces a color-coded plot\n",
    "whose colors depend on the `z` value. This is known as a\n",
    "*heatmap*, and is sometimes used to plot temperature in\n",
    "weather forecasts."
   ]
  },
  {
   "cell_type": "code",
   "execution_count": null,
   "id": "abd902e8",
   "metadata": {
    "execution": {
     "iopub.execute_input": "2024-06-05T01:13:23.981732Z",
     "iopub.status.busy": "2024-06-05T01:13:23.981600Z",
     "iopub.status.idle": "2024-06-05T01:13:24.056222Z",
     "shell.execute_reply": "2024-06-05T01:13:24.055931Z"
    },
    "lines_to_next_cell": 2
   },
   "outputs": [],
   "source": [
    "fig, ax = subplots(figsize=(8, 8))\n",
    "ax.imshow(f);\n"
   ]
  },
  {
   "cell_type": "markdown",
   "id": "d520787e",
   "metadata": {},
   "source": [
    "## Sequences and Slice Notation"
   ]
  },
  {
   "cell_type": "markdown",
   "id": "bc5c0402",
   "metadata": {},
   "source": [
    "As seen above, the\n",
    "function `np.linspace()`  can be used to create a sequence\n",
    "of numbers."
   ]
  },
  {
   "cell_type": "code",
   "execution_count": null,
   "id": "5d59f1a1",
   "metadata": {
    "execution": {
     "iopub.execute_input": "2024-06-05T01:13:24.058049Z",
     "iopub.status.busy": "2024-06-05T01:13:24.057942Z",
     "iopub.status.idle": "2024-06-05T01:13:24.060262Z",
     "shell.execute_reply": "2024-06-05T01:13:24.060017Z"
    },
    "lines_to_next_cell": 2
   },
   "outputs": [],
   "source": [
    "seq1 = np.linspace(0, 10, 11)\n",
    "seq1\n"
   ]
  },
  {
   "cell_type": "markdown",
   "id": "3db9e9d1",
   "metadata": {},
   "source": [
    "The function `np.arange()`\n",
    " returns a sequence of numbers spaced out by `step`. If `step` is not specified, then a default value of $1$ is used. Let's create a sequence\n",
    " that starts at $0$ and ends at $10$."
   ]
  },
  {
   "cell_type": "code",
   "execution_count": null,
   "id": "43939bf3",
   "metadata": {
    "execution": {
     "iopub.execute_input": "2024-06-05T01:13:24.061789Z",
     "iopub.status.busy": "2024-06-05T01:13:24.061666Z",
     "iopub.status.idle": "2024-06-05T01:13:24.063954Z",
     "shell.execute_reply": "2024-06-05T01:13:24.063674Z"
    }
   },
   "outputs": [],
   "source": [
    "seq2 = np.arange(0, 10)\n",
    "seq2\n"
   ]
  },
  {
   "cell_type": "markdown",
   "id": "1d1ef4ce",
   "metadata": {},
   "source": [
    "Why isn't $10$ output above? This has to do with *slice* notation in `Python`. \n",
    "Slice notation  \n",
    "is used to index sequences such as lists, tuples and arrays.\n",
    "Suppose we want to retrieve the fourth through sixth (inclusive) entries\n",
    "of a string. We obtain a slice of the string using the indexing  notation  `[3:6]`."
   ]
  },
  {
   "cell_type": "code",
   "execution_count": null,
   "id": "8004cba3",
   "metadata": {
    "execution": {
     "iopub.execute_input": "2024-06-05T01:13:24.065591Z",
     "iopub.status.busy": "2024-06-05T01:13:24.065473Z",
     "iopub.status.idle": "2024-06-05T01:13:24.067662Z",
     "shell.execute_reply": "2024-06-05T01:13:24.067371Z"
    },
    "lines_to_next_cell": 0
   },
   "outputs": [],
   "source": [
    "\"hello world\"[3:6]"
   ]
  },
  {
   "cell_type": "markdown",
   "id": "74d0e597",
   "metadata": {},
   "source": [
    "In the code block above, the notation `3:6` is shorthand for  `slice(3,6)` when used inside\n",
    "`[]`. "
   ]
  },
  {
   "cell_type": "code",
   "execution_count": null,
   "id": "ed4fd312",
   "metadata": {
    "execution": {
     "iopub.execute_input": "2024-06-05T01:13:24.069190Z",
     "iopub.status.busy": "2024-06-05T01:13:24.069066Z",
     "iopub.status.idle": "2024-06-05T01:13:24.071066Z",
     "shell.execute_reply": "2024-06-05T01:13:24.070825Z"
    }
   },
   "outputs": [],
   "source": [
    "\"hello world\"[slice(3,6)]\n"
   ]
  },
  {
   "cell_type": "markdown",
   "id": "603d1e8c",
   "metadata": {},
   "source": [
    "You might have expected  `slice(3,6)` to output the fourth through seventh characters in the text string (recalling that  `Python` begins its indexing at zero),  but instead it output  the fourth through sixth. \n",
    " This also explains why the earlier `np.arange(0, 10)` command output only the integers from $0$ to $9$. \n",
    "See the documentation `slice?` for useful options in creating slices. \n",
    "\n",
    "    \n",
    "\n",
    "\n",
    "\n",
    "    \n",
    "\n",
    "\n",
    "    \n",
    "\n",
    " \n",
    "\n",
    "    \n",
    "\n",
    " \n",
    "\n",
    "    \n",
    "\n",
    "\n",
    "    \n"
   ]
  },
  {
   "cell_type": "markdown",
   "id": "a47ec7f3",
   "metadata": {},
   "source": [
    "## Indexing Data\n",
    "To begin, we  create a two-dimensional `numpy` array."
   ]
  },
  {
   "cell_type": "code",
   "execution_count": null,
   "id": "a98b539d",
   "metadata": {
    "execution": {
     "iopub.execute_input": "2024-06-05T01:13:24.072570Z",
     "iopub.status.busy": "2024-06-05T01:13:24.072457Z",
     "iopub.status.idle": "2024-06-05T01:13:24.074648Z",
     "shell.execute_reply": "2024-06-05T01:13:24.074370Z"
    }
   },
   "outputs": [],
   "source": [
    "A = np.array(np.arange(16)).reshape((4, 4))\n",
    "A\n"
   ]
  },
  {
   "cell_type": "markdown",
   "id": "e014c680",
   "metadata": {},
   "source": [
    "Typing `A[1,2]` retrieves the element corresponding to the second row and third\n",
    "column. (As usual, `Python` indexes from $0.$)"
   ]
  },
  {
   "cell_type": "code",
   "execution_count": null,
   "id": "db2991e9",
   "metadata": {
    "execution": {
     "iopub.execute_input": "2024-06-05T01:13:24.076007Z",
     "iopub.status.busy": "2024-06-05T01:13:24.075893Z",
     "iopub.status.idle": "2024-06-05T01:13:24.078027Z",
     "shell.execute_reply": "2024-06-05T01:13:24.077777Z"
    }
   },
   "outputs": [],
   "source": [
    "A[1,2]\n"
   ]
  },
  {
   "cell_type": "markdown",
   "id": "ae24e3e1",
   "metadata": {},
   "source": [
    "The first number after the open-bracket symbol `[`\n",
    " refers to the row, and the second number refers to the column. \n",
    "\n",
    "### Indexing Rows, Columns, and Submatrices\n",
    " To select multiple rows at a time, we can pass in a list\n",
    "  specifying our selection. For instance, `[1,3]` will retrieve the second and fourth rows:"
   ]
  },
  {
   "cell_type": "code",
   "execution_count": null,
   "id": "9a28347c",
   "metadata": {
    "execution": {
     "iopub.execute_input": "2024-06-05T01:13:24.079352Z",
     "iopub.status.busy": "2024-06-05T01:13:24.079256Z",
     "iopub.status.idle": "2024-06-05T01:13:24.081380Z",
     "shell.execute_reply": "2024-06-05T01:13:24.081110Z"
    }
   },
   "outputs": [],
   "source": [
    "A[[1,3]]\n"
   ]
  },
  {
   "cell_type": "markdown",
   "id": "2f210192",
   "metadata": {},
   "source": [
    "To select the first and third columns, we pass in  `[0,2]` as the second argument in the square brackets.\n",
    "In this case we need to supply the first argument `:` \n",
    "which selects all rows."
   ]
  },
  {
   "cell_type": "code",
   "execution_count": null,
   "id": "8dd02706",
   "metadata": {
    "execution": {
     "iopub.execute_input": "2024-06-05T01:13:24.082810Z",
     "iopub.status.busy": "2024-06-05T01:13:24.082704Z",
     "iopub.status.idle": "2024-06-05T01:13:24.084763Z",
     "shell.execute_reply": "2024-06-05T01:13:24.084520Z"
    }
   },
   "outputs": [],
   "source": [
    "A[:,[0,2]]\n"
   ]
  },
  {
   "cell_type": "markdown",
   "id": "bf681d53",
   "metadata": {},
   "source": [
    "Now, suppose that we want to select the submatrix made up of the second and fourth \n",
    "rows as well as the first and third columns. This is where\n",
    "indexing gets slightly tricky. It is natural to try  to use lists to retrieve the rows and columns:"
   ]
  },
  {
   "cell_type": "code",
   "execution_count": null,
   "id": "90e43051",
   "metadata": {
    "execution": {
     "iopub.execute_input": "2024-06-05T01:13:24.086007Z",
     "iopub.status.busy": "2024-06-05T01:13:24.085913Z",
     "iopub.status.idle": "2024-06-05T01:13:24.087984Z",
     "shell.execute_reply": "2024-06-05T01:13:24.087713Z"
    }
   },
   "outputs": [],
   "source": [
    "A[[1,3],[0,2]]\n"
   ]
  },
  {
   "cell_type": "markdown",
   "id": "24c1171f",
   "metadata": {},
   "source": [
    " Oops --- what happened? We got a one-dimensional array of length two identical to"
   ]
  },
  {
   "cell_type": "code",
   "execution_count": null,
   "id": "6715713f",
   "metadata": {
    "execution": {
     "iopub.execute_input": "2024-06-05T01:13:24.089374Z",
     "iopub.status.busy": "2024-06-05T01:13:24.089274Z",
     "iopub.status.idle": "2024-06-05T01:13:24.091441Z",
     "shell.execute_reply": "2024-06-05T01:13:24.091187Z"
    }
   },
   "outputs": [],
   "source": [
    "np.array([A[1,0],A[3,2]])\n"
   ]
  },
  {
   "cell_type": "markdown",
   "id": "87cb8f3e",
   "metadata": {},
   "source": [
    " Similarly,  the following code fails to extract the submatrix comprised of the second and fourth rows and the first, third, and fourth columns:"
   ]
  },
  {
   "cell_type": "code",
   "execution_count": null,
   "id": "0a2ec981",
   "metadata": {
    "execution": {
     "iopub.execute_input": "2024-06-05T01:13:24.092746Z",
     "iopub.status.busy": "2024-06-05T01:13:24.092650Z",
     "iopub.status.idle": "2024-06-05T01:13:24.108005Z",
     "shell.execute_reply": "2024-06-05T01:13:24.107740Z"
    }
   },
   "outputs": [],
   "source": [
    "A[[1,3],[0,2,3]]\n"
   ]
  },
  {
   "cell_type": "markdown",
   "id": "08164d54",
   "metadata": {},
   "source": [
    "We can see what has gone wrong here. When supplied with two indexing lists, the `numpy` interpretation is that these provide pairs of $i,j$ indices for a series of entries. That is why the pair of lists must have the same length. However, that was not our intent, since we are looking for a submatrix.\n",
    "\n",
    "One easy way to do this is as follows. We first create a submatrix by subsetting the rows of `A`, and then on the fly we make a further submatrix by subsetting its columns.\n"
   ]
  },
  {
   "cell_type": "code",
   "execution_count": null,
   "id": "7af33bcc",
   "metadata": {
    "execution": {
     "iopub.execute_input": "2024-06-05T01:13:24.109699Z",
     "iopub.status.busy": "2024-06-05T01:13:24.109581Z",
     "iopub.status.idle": "2024-06-05T01:13:24.111728Z",
     "shell.execute_reply": "2024-06-05T01:13:24.111490Z"
    },
    "lines_to_next_cell": 0
   },
   "outputs": [],
   "source": [
    "A[[1,3]][:,[0,2]]\n"
   ]
  },
  {
   "cell_type": "markdown",
   "id": "4f0c3bdd",
   "metadata": {},
   "source": [
    "    "
   ]
  },
  {
   "cell_type": "markdown",
   "id": "b876d9da",
   "metadata": {},
   "source": [
    "There are more efficient ways of achieving the same result.\n",
    "\n",
    "The *convenience function* `np.ix_()` allows us  to extract a submatrix\n",
    "using lists, by creating an intermediate *mesh* object."
   ]
  },
  {
   "cell_type": "code",
   "execution_count": null,
   "id": "ec304448",
   "metadata": {
    "execution": {
     "iopub.execute_input": "2024-06-05T01:13:24.113315Z",
     "iopub.status.busy": "2024-06-05T01:13:24.113196Z",
     "iopub.status.idle": "2024-06-05T01:13:24.115420Z",
     "shell.execute_reply": "2024-06-05T01:13:24.115148Z"
    },
    "lines_to_next_cell": 2
   },
   "outputs": [],
   "source": [
    "idx = np.ix_([1,3],[0,2,3])\n",
    "A[idx]\n"
   ]
  },
  {
   "cell_type": "markdown",
   "id": "19e8ae97",
   "metadata": {},
   "source": [
    "Alternatively, we can subset matrices efficiently using slices.\n",
    "  \n",
    "The slice\n",
    "`1:4:2` captures the second and fourth items of a sequence, while the slice `0:3:2` captures\n",
    "the first and third items (the third element in a slice sequence is the step size)."
   ]
  },
  {
   "cell_type": "code",
   "execution_count": null,
   "id": "1953fd6f",
   "metadata": {
    "execution": {
     "iopub.execute_input": "2024-06-05T01:13:24.116829Z",
     "iopub.status.busy": "2024-06-05T01:13:24.116730Z",
     "iopub.status.idle": "2024-06-05T01:13:24.118831Z",
     "shell.execute_reply": "2024-06-05T01:13:24.118589Z"
    },
    "lines_to_next_cell": 0
   },
   "outputs": [],
   "source": [
    "A[1:4:2,0:3:2]\n"
   ]
  },
  {
   "cell_type": "markdown",
   "id": "4daae00d",
   "metadata": {},
   "source": [
    "    "
   ]
  },
  {
   "cell_type": "markdown",
   "id": "9b0a3fcb",
   "metadata": {},
   "source": [
    "Why are we able to retrieve a submatrix directly using slices but not using lists?\n",
    "Its because they are different `Python` types, and\n",
    "are treated differently by `numpy`.\n",
    "Slices can be used to extract objects from arbitrary sequences, such as strings, lists, and tuples, while the use of lists for indexing is more limited.\n",
    "\n",
    "\n",
    "\n",
    "\n",
    "    \n",
    "\n",
    " \n",
    "\n",
    "    \n",
    "\n",
    " "
   ]
  },
  {
   "cell_type": "markdown",
   "id": "5008cd5f",
   "metadata": {},
   "source": [
    "### Boolean Indexing\n",
    "In `numpy`, a *Boolean* is a type  that equals either   `True` or  `False` (also represented as $1$ and $0$, respectively).\n",
    "The next line creates a vector of $0$'s, represented as Booleans, of length equal to the first dimension of `A`. "
   ]
  },
  {
   "cell_type": "code",
   "execution_count": null,
   "id": "49d86ff4",
   "metadata": {
    "execution": {
     "iopub.execute_input": "2024-06-05T01:13:24.120208Z",
     "iopub.status.busy": "2024-06-05T01:13:24.120116Z",
     "iopub.status.idle": "2024-06-05T01:13:24.122067Z",
     "shell.execute_reply": "2024-06-05T01:13:24.121820Z"
    },
    "lines_to_next_cell": 0
   },
   "outputs": [],
   "source": [
    "keep_rows = np.zeros(A.shape[0], bool)\n",
    "keep_rows"
   ]
  },
  {
   "cell_type": "markdown",
   "id": "7d0340e0",
   "metadata": {},
   "source": [
    "We now set two of the elements to `True`. "
   ]
  },
  {
   "cell_type": "code",
   "execution_count": null,
   "id": "9bc2e603",
   "metadata": {
    "execution": {
     "iopub.execute_input": "2024-06-05T01:13:24.123503Z",
     "iopub.status.busy": "2024-06-05T01:13:24.123411Z",
     "iopub.status.idle": "2024-06-05T01:13:24.125341Z",
     "shell.execute_reply": "2024-06-05T01:13:24.125066Z"
    }
   },
   "outputs": [],
   "source": [
    "keep_rows[[1,3]] = True\n",
    "keep_rows\n"
   ]
  },
  {
   "cell_type": "markdown",
   "id": "7186d484",
   "metadata": {},
   "source": [
    "Note that the elements of `keep_rows`, when viewed as integers, are the same as the\n",
    "values of `np.array([0,1,0,1])`. Below, we use  `==` to verify their equality. When\n",
    "applied to two arrays, the `==`   operation is applied elementwise."
   ]
  },
  {
   "cell_type": "code",
   "execution_count": null,
   "id": "2c381dab",
   "metadata": {
    "execution": {
     "iopub.execute_input": "2024-06-05T01:13:24.126860Z",
     "iopub.status.busy": "2024-06-05T01:13:24.126762Z",
     "iopub.status.idle": "2024-06-05T01:13:24.128900Z",
     "shell.execute_reply": "2024-06-05T01:13:24.128625Z"
    }
   },
   "outputs": [],
   "source": [
    "np.all(keep_rows == np.array([0,1,0,1]))\n"
   ]
  },
  {
   "cell_type": "markdown",
   "id": "74fff761",
   "metadata": {},
   "source": [
    "(Here, the function `np.all()` has checked whether\n",
    "all entries of an array are `True`. A similar function, `np.any()`, can be used to check whether any entries of an array are `True`.)"
   ]
  },
  {
   "cell_type": "markdown",
   "id": "89858e4d",
   "metadata": {},
   "source": [
    "   However, even though `np.array([0,1,0,1])`  and `keep_rows` are equal according to `==`, they index different sets of rows!\n",
    "The former retrieves the first, second, first, and second rows of `A`. "
   ]
  },
  {
   "cell_type": "code",
   "execution_count": null,
   "id": "d0aebd92",
   "metadata": {
    "execution": {
     "iopub.execute_input": "2024-06-05T01:13:24.130396Z",
     "iopub.status.busy": "2024-06-05T01:13:24.130289Z",
     "iopub.status.idle": "2024-06-05T01:13:24.132282Z",
     "shell.execute_reply": "2024-06-05T01:13:24.132070Z"
    }
   },
   "outputs": [],
   "source": [
    "A[np.array([0,1,0,1])]\n"
   ]
  },
  {
   "cell_type": "markdown",
   "id": "64720f0c",
   "metadata": {},
   "source": [
    " By contrast, `keep_rows` retrieves only the second and fourth rows  of `A` --- i.e. the rows for which the Boolean equals `TRUE`. "
   ]
  },
  {
   "cell_type": "code",
   "execution_count": null,
   "id": "e6532bac",
   "metadata": {
    "execution": {
     "iopub.execute_input": "2024-06-05T01:13:24.133653Z",
     "iopub.status.busy": "2024-06-05T01:13:24.133556Z",
     "iopub.status.idle": "2024-06-05T01:13:24.135615Z",
     "shell.execute_reply": "2024-06-05T01:13:24.135315Z"
    }
   },
   "outputs": [],
   "source": [
    "A[keep_rows]\n"
   ]
  },
  {
   "cell_type": "markdown",
   "id": "8b25e82a",
   "metadata": {},
   "source": [
    "This example shows that Booleans and integers are treated differently by `numpy`."
   ]
  },
  {
   "cell_type": "markdown",
   "id": "77ffc714",
   "metadata": {},
   "source": [
    "We again make use of the `np.ix_()` function\n",
    " to create a mesh containing the second and fourth rows, and the first,  third, and fourth columns. This time, we apply the function to Booleans,\n",
    " rather than lists."
   ]
  },
  {
   "cell_type": "code",
   "execution_count": null,
   "id": "1d5d984c",
   "metadata": {
    "execution": {
     "iopub.execute_input": "2024-06-05T01:13:24.137042Z",
     "iopub.status.busy": "2024-06-05T01:13:24.136932Z",
     "iopub.status.idle": "2024-06-05T01:13:24.139277Z",
     "shell.execute_reply": "2024-06-05T01:13:24.138995Z"
    }
   },
   "outputs": [],
   "source": [
    "keep_cols = np.zeros(A.shape[1], bool)\n",
    "keep_cols[[0, 2, 3]] = True\n",
    "idx_bool = np.ix_(keep_rows, keep_cols)\n",
    "A[idx_bool]\n"
   ]
  },
  {
   "cell_type": "markdown",
   "id": "66e7557a",
   "metadata": {},
   "source": [
    "We can also mix a list with an array of Booleans in the arguments to `np.ix_()`:"
   ]
  },
  {
   "cell_type": "code",
   "execution_count": null,
   "id": "4057cec1",
   "metadata": {
    "execution": {
     "iopub.execute_input": "2024-06-05T01:13:24.140843Z",
     "iopub.status.busy": "2024-06-05T01:13:24.140734Z",
     "iopub.status.idle": "2024-06-05T01:13:24.142836Z",
     "shell.execute_reply": "2024-06-05T01:13:24.142595Z"
    },
    "lines_to_next_cell": 0
   },
   "outputs": [],
   "source": [
    "idx_mixed = np.ix_([1,3], keep_cols)\n",
    "A[idx_mixed]\n"
   ]
  },
  {
   "cell_type": "markdown",
   "id": "ebbf17e5",
   "metadata": {},
   "source": [
    "    "
   ]
  },
  {
   "cell_type": "markdown",
   "id": "63757cd7",
   "metadata": {},
   "source": [
    "For more details on indexing in `numpy`, readers are referred\n",
    "to the `numpy` tutorial mentioned earlier.\n"
   ]
  },
  {
   "cell_type": "markdown",
   "id": "9b981ffc",
   "metadata": {},
   "source": [
    "## Loading Data\n",
    "\n",
    "Data sets often contain different types of data, and may have names associated with the rows or columns. \n",
    "For these reasons, they typically are best accommodated using a\n",
    " *data frame*. \n",
    " We can think of a data frame  as a sequence\n",
    "of arrays of identical length; these are the columns. Entries in the\n",
    "different arrays can be combined to form a row.\n",
    " The `pandas`\n",
    "library can be used to create and work with data frame objects."
   ]
  },
  {
   "cell_type": "markdown",
   "id": "c6b82361",
   "metadata": {},
   "source": [
    "### Reading in a Data Set\n",
    "\n",
    "The first step of most analyses involves importing a data set into\n",
    "`Python`.  \n",
    " Before attempting to load\n",
    "a data set, we must make sure that `Python` knows where to find the file containing it. \n",
    "If the\n",
    "file is in the same location\n",
    "as this notebook file, then we are all set. \n",
    "Otherwise, \n",
    "the command\n",
    "`os.chdir()`  can be used to *change directory*. (You will need to call `import os` before calling `os.chdir()`.) "
   ]
  },
  {
   "cell_type": "markdown",
   "id": "da79b516",
   "metadata": {},
   "source": [
    "We will begin by reading in `Auto.csv`, available on the book website. This is a comma-separated file, and can be read in using `pd.read_csv()`: "
   ]
  },
  {
   "cell_type": "code",
   "execution_count": null,
   "id": "d13a6775",
   "metadata": {
    "execution": {
     "iopub.execute_input": "2024-06-05T01:13:24.144284Z",
     "iopub.status.busy": "2024-06-05T01:13:24.144189Z",
     "iopub.status.idle": "2024-06-05T01:13:24.323344Z",
     "shell.execute_reply": "2024-06-05T01:13:24.323105Z"
    }
   },
   "outputs": [],
   "source": [
    "import pandas as pd\n",
    "Auto = pd.read_csv('Auto.csv')\n",
    "Auto\n"
   ]
  },
  {
   "cell_type": "markdown",
   "id": "158efde6",
   "metadata": {},
   "source": [
    "The book website also has a whitespace-delimited version of this data, called `Auto.data`. This can be read in as follows:"
   ]
  },
  {
   "cell_type": "code",
   "execution_count": null,
   "id": "f7857be6",
   "metadata": {
    "execution": {
     "iopub.execute_input": "2024-06-05T01:13:24.324726Z",
     "iopub.status.busy": "2024-06-05T01:13:24.324623Z",
     "iopub.status.idle": "2024-06-05T01:13:24.327567Z",
     "shell.execute_reply": "2024-06-05T01:13:24.327331Z"
    },
    "lines_to_next_cell": 0
   },
   "outputs": [],
   "source": [
    "Auto = pd.read_csv('Auto.data', delim_whitespace=True)\n"
   ]
  },
  {
   "cell_type": "markdown",
   "id": "a373fcb4",
   "metadata": {},
   "source": [
    " Both `Auto.csv` and `Auto.data` are simply text\n",
    "files. Before loading data into `Python`, it is a good idea to view it using\n",
    "a text editor or other software, such as Microsoft Excel.\n",
    "\n"
   ]
  },
  {
   "cell_type": "markdown",
   "id": "bba17c66",
   "metadata": {},
   "source": [
    "We now take a look at the column of `Auto` corresponding to the variable `horsepower`: "
   ]
  },
  {
   "cell_type": "code",
   "execution_count": null,
   "id": "7912c27e",
   "metadata": {
    "execution": {
     "iopub.execute_input": "2024-06-05T01:13:24.328873Z",
     "iopub.status.busy": "2024-06-05T01:13:24.328782Z",
     "iopub.status.idle": "2024-06-05T01:13:24.331187Z",
     "shell.execute_reply": "2024-06-05T01:13:24.330966Z"
    },
    "lines_to_next_cell": 0
   },
   "outputs": [],
   "source": [
    "Auto['horsepower']\n"
   ]
  },
  {
   "cell_type": "markdown",
   "id": "af443415",
   "metadata": {},
   "source": [
    "We see that the `dtype` of this column is `object`. \n",
    "It turns out that all values of the `horsepower` column were interpreted as strings when reading\n",
    "in the data. \n",
    "We can find out why by looking at the unique values."
   ]
  },
  {
   "cell_type": "code",
   "execution_count": null,
   "id": "f8078632",
   "metadata": {
    "execution": {
     "iopub.execute_input": "2024-06-05T01:13:24.332465Z",
     "iopub.status.busy": "2024-06-05T01:13:24.332343Z",
     "iopub.status.idle": "2024-06-05T01:13:24.334500Z",
     "shell.execute_reply": "2024-06-05T01:13:24.334302Z"
    },
    "lines_to_next_cell": 0
   },
   "outputs": [],
   "source": [
    "np.unique(Auto['horsepower'])\n"
   ]
  },
  {
   "cell_type": "markdown",
   "id": "46fb50cb",
   "metadata": {},
   "source": [
    "We see the culprit is the value `?`, which is being used to encode missing values.\n",
    "\n"
   ]
  },
  {
   "cell_type": "markdown",
   "id": "71e7a9fe",
   "metadata": {},
   "source": [
    "To fix the problem, we must provide `pd.read_csv()` with an argument called `na_values`.\n",
    "Now,  each instance of  `?` in the file is replaced with the\n",
    "value `np.nan`, which means *not a number*:"
   ]
  },
  {
   "cell_type": "code",
   "execution_count": null,
   "id": "aad623ae",
   "metadata": {
    "execution": {
     "iopub.execute_input": "2024-06-05T01:13:24.335798Z",
     "iopub.status.busy": "2024-06-05T01:13:24.335712Z",
     "iopub.status.idle": "2024-06-05T01:13:24.338898Z",
     "shell.execute_reply": "2024-06-05T01:13:24.338695Z"
    },
    "lines_to_next_cell": 2
   },
   "outputs": [],
   "source": [
    "Auto = pd.read_csv('Auto.data',\n",
    "                   na_values=['?'],\n",
    "                   delim_whitespace=True)\n",
    "Auto['horsepower'].sum()\n"
   ]
  },
  {
   "cell_type": "markdown",
   "id": "8aa30cf6",
   "metadata": {},
   "source": [
    "The `Auto.shape`  attribute tells us that the data has 397\n",
    "observations, or rows, and nine variables, or columns."
   ]
  },
  {
   "cell_type": "code",
   "execution_count": null,
   "id": "ae1cad4e",
   "metadata": {
    "execution": {
     "iopub.execute_input": "2024-06-05T01:13:24.340150Z",
     "iopub.status.busy": "2024-06-05T01:13:24.340081Z",
     "iopub.status.idle": "2024-06-05T01:13:24.341961Z",
     "shell.execute_reply": "2024-06-05T01:13:24.341744Z"
    }
   },
   "outputs": [],
   "source": [
    "Auto.shape\n"
   ]
  },
  {
   "cell_type": "markdown",
   "id": "a699c56e",
   "metadata": {},
   "source": [
    "There are\n",
    "various ways to deal with  missing data. \n",
    "In this case, since only five of the rows contain missing\n",
    "observations,  we choose to use the `Auto.dropna()` method to simply remove these rows."
   ]
  },
  {
   "cell_type": "code",
   "execution_count": null,
   "id": "52eb7971",
   "metadata": {
    "execution": {
     "iopub.execute_input": "2024-06-05T01:13:24.343152Z",
     "iopub.status.busy": "2024-06-05T01:13:24.343088Z",
     "iopub.status.idle": "2024-06-05T01:13:24.345337Z",
     "shell.execute_reply": "2024-06-05T01:13:24.345111Z"
    },
    "lines_to_next_cell": 2
   },
   "outputs": [],
   "source": [
    "Auto_new = Auto.dropna()\n",
    "Auto_new.shape\n"
   ]
  },
  {
   "cell_type": "markdown",
   "id": "55a60e42",
   "metadata": {},
   "source": [
    "### Basics of Selecting Rows and Columns\n",
    " \n",
    "We can use `Auto.columns`  to check the variable names."
   ]
  },
  {
   "cell_type": "code",
   "execution_count": null,
   "id": "44829ab6",
   "metadata": {
    "execution": {
     "iopub.execute_input": "2024-06-05T01:13:24.346569Z",
     "iopub.status.busy": "2024-06-05T01:13:24.346495Z",
     "iopub.status.idle": "2024-06-05T01:13:24.348509Z",
     "shell.execute_reply": "2024-06-05T01:13:24.348265Z"
    },
    "lines_to_next_cell": 2
   },
   "outputs": [],
   "source": [
    "Auto = Auto_new # overwrite the previous value\n",
    "Auto.columns\n"
   ]
  },
  {
   "cell_type": "markdown",
   "id": "a397a994",
   "metadata": {},
   "source": [
    "Accessing the rows and columns of a data frame is similar, but not identical, to accessing the rows and columns of an array. \n",
    "Recall that the first argument to the `[]` method\n",
    "is always applied to the rows of the array.  \n",
    "Similarly, \n",
    "passing in a slice to the `[]` method creates a data frame whose *rows* are determined by the slice:"
   ]
  },
  {
   "cell_type": "code",
   "execution_count": null,
   "id": "3aad1bdb",
   "metadata": {
    "execution": {
     "iopub.execute_input": "2024-06-05T01:13:24.349852Z",
     "iopub.status.busy": "2024-06-05T01:13:24.349784Z",
     "iopub.status.idle": "2024-06-05T01:13:24.353582Z",
     "shell.execute_reply": "2024-06-05T01:13:24.353356Z"
    },
    "lines_to_next_cell": 0
   },
   "outputs": [],
   "source": [
    "Auto[:3]\n"
   ]
  },
  {
   "cell_type": "markdown",
   "id": "3b42c876",
   "metadata": {},
   "source": [
    "Similarly, an array of Booleans can be used to subset the rows:"
   ]
  },
  {
   "cell_type": "code",
   "execution_count": null,
   "id": "ae1e9a3a",
   "metadata": {
    "execution": {
     "iopub.execute_input": "2024-06-05T01:13:24.354951Z",
     "iopub.status.busy": "2024-06-05T01:13:24.354871Z",
     "iopub.status.idle": "2024-06-05T01:13:24.366222Z",
     "shell.execute_reply": "2024-06-05T01:13:24.365980Z"
    },
    "lines_to_next_cell": 0
   },
   "outputs": [],
   "source": [
    "idx_80 = Auto['year'] > 80\n",
    "Auto[idx_80]\n"
   ]
  },
  {
   "cell_type": "markdown",
   "id": "d37e10a9",
   "metadata": {},
   "source": [
    "However, if we pass  in a list of strings to the `[]` method, then we obtain a data frame containing the corresponding set of *columns*. "
   ]
  },
  {
   "cell_type": "code",
   "execution_count": null,
   "id": "2b543957",
   "metadata": {
    "execution": {
     "iopub.execute_input": "2024-06-05T01:13:24.367542Z",
     "iopub.status.busy": "2024-06-05T01:13:24.367463Z",
     "iopub.status.idle": "2024-06-05T01:13:24.371446Z",
     "shell.execute_reply": "2024-06-05T01:13:24.371187Z"
    },
    "lines_to_next_cell": 0
   },
   "outputs": [],
   "source": [
    "Auto[['mpg', 'horsepower']]\n"
   ]
  },
  {
   "cell_type": "markdown",
   "id": "92bd5358",
   "metadata": {},
   "source": [
    "Since we did not specify an *index* column when we loaded our data frame, the rows are labeled using integers\n",
    "0 to 396."
   ]
  },
  {
   "cell_type": "code",
   "execution_count": null,
   "id": "077b30b4",
   "metadata": {
    "execution": {
     "iopub.execute_input": "2024-06-05T01:13:24.372753Z",
     "iopub.status.busy": "2024-06-05T01:13:24.372683Z",
     "iopub.status.idle": "2024-06-05T01:13:24.374830Z",
     "shell.execute_reply": "2024-06-05T01:13:24.374522Z"
    },
    "lines_to_next_cell": 0
   },
   "outputs": [],
   "source": [
    "Auto.index\n"
   ]
  },
  {
   "cell_type": "markdown",
   "id": "e0399816",
   "metadata": {},
   "source": [
    "We can use the\n",
    "`set_index()` method to re-name the rows using the contents of `Auto['name']`. "
   ]
  },
  {
   "cell_type": "code",
   "execution_count": null,
   "id": "601c3700",
   "metadata": {
    "execution": {
     "iopub.execute_input": "2024-06-05T01:13:24.376370Z",
     "iopub.status.busy": "2024-06-05T01:13:24.376285Z",
     "iopub.status.idle": "2024-06-05T01:13:24.381671Z",
     "shell.execute_reply": "2024-06-05T01:13:24.381414Z"
    }
   },
   "outputs": [],
   "source": [
    "Auto_re = Auto.set_index('name')\n",
    "Auto_re\n"
   ]
  },
  {
   "cell_type": "code",
   "execution_count": null,
   "id": "8ef352e3",
   "metadata": {
    "execution": {
     "iopub.execute_input": "2024-06-05T01:13:24.383087Z",
     "iopub.status.busy": "2024-06-05T01:13:24.382999Z",
     "iopub.status.idle": "2024-06-05T01:13:24.385187Z",
     "shell.execute_reply": "2024-06-05T01:13:24.384964Z"
    },
    "lines_to_next_cell": 0
   },
   "outputs": [],
   "source": [
    "Auto_re.columns\n"
   ]
  },
  {
   "cell_type": "markdown",
   "id": "3e7cd35f",
   "metadata": {},
   "source": [
    "We see that the column `'name'` is no longer there.\n",
    " \n",
    "Now that the index has been set to `name`, we can  access rows of the data \n",
    "frame by `name` using the `{loc[]`} method of\n",
    "`Auto`:"
   ]
  },
  {
   "cell_type": "code",
   "execution_count": null,
   "id": "04e94eee",
   "metadata": {
    "execution": {
     "iopub.execute_input": "2024-06-05T01:13:24.386485Z",
     "iopub.status.busy": "2024-06-05T01:13:24.386407Z",
     "iopub.status.idle": "2024-06-05T01:13:24.390332Z",
     "shell.execute_reply": "2024-06-05T01:13:24.390075Z"
    },
    "lines_to_next_cell": 0
   },
   "outputs": [],
   "source": [
    "rows = ['amc rebel sst', 'ford torino']\n",
    "Auto_re.loc[rows]\n"
   ]
  },
  {
   "cell_type": "markdown",
   "id": "130de6b3",
   "metadata": {},
   "source": [
    "As an alternative to using the index name, we could retrieve the 4th and 5th rows of `Auto` using the `{iloc[]`} method:"
   ]
  },
  {
   "cell_type": "code",
   "execution_count": null,
   "id": "5cd1291d",
   "metadata": {
    "execution": {
     "iopub.execute_input": "2024-06-05T01:13:24.391646Z",
     "iopub.status.busy": "2024-06-05T01:13:24.391572Z",
     "iopub.status.idle": "2024-06-05T01:13:24.395313Z",
     "shell.execute_reply": "2024-06-05T01:13:24.395048Z"
    },
    "lines_to_next_cell": 0
   },
   "outputs": [],
   "source": [
    "Auto_re.iloc[[3,4]]\n"
   ]
  },
  {
   "cell_type": "markdown",
   "id": "7f84a56d",
   "metadata": {},
   "source": [
    "We can also use it to retrieve the 1st, 3rd and and 4th columns of `Auto_re`:"
   ]
  },
  {
   "cell_type": "code",
   "execution_count": null,
   "id": "5f1f3970",
   "metadata": {
    "execution": {
     "iopub.execute_input": "2024-06-05T01:13:24.396633Z",
     "iopub.status.busy": "2024-06-05T01:13:24.396547Z",
     "iopub.status.idle": "2024-06-05T01:13:24.400604Z",
     "shell.execute_reply": "2024-06-05T01:13:24.400364Z"
    },
    "lines_to_next_cell": 0
   },
   "outputs": [],
   "source": [
    "Auto_re.iloc[:,[0,2,3]]\n"
   ]
  },
  {
   "cell_type": "markdown",
   "id": "ea7a4fe5",
   "metadata": {},
   "source": [
    "We can extract the 4th and 5th rows, as well as the 1st, 3rd and 4th columns, using\n",
    "a single call to `iloc[]`:"
   ]
  },
  {
   "cell_type": "code",
   "execution_count": null,
   "id": "a9429e4b",
   "metadata": {
    "execution": {
     "iopub.execute_input": "2024-06-05T01:13:24.401897Z",
     "iopub.status.busy": "2024-06-05T01:13:24.401825Z",
     "iopub.status.idle": "2024-06-05T01:13:24.405021Z",
     "shell.execute_reply": "2024-06-05T01:13:24.404756Z"
    },
    "lines_to_next_cell": 0
   },
   "outputs": [],
   "source": [
    "Auto_re.iloc[[3,4],[0,2,3]]\n"
   ]
  },
  {
   "cell_type": "markdown",
   "id": "efd4b127",
   "metadata": {},
   "source": [
    "Index entries need not be unique: there are several cars  in the data frame named `ford galaxie 500`."
   ]
  },
  {
   "cell_type": "code",
   "execution_count": null,
   "id": "1fd20b7d",
   "metadata": {
    "execution": {
     "iopub.execute_input": "2024-06-05T01:13:24.406268Z",
     "iopub.status.busy": "2024-06-05T01:13:24.406198Z",
     "iopub.status.idle": "2024-06-05T01:13:24.409290Z",
     "shell.execute_reply": "2024-06-05T01:13:24.409058Z"
    },
    "lines_to_next_cell": 0
   },
   "outputs": [],
   "source": [
    "Auto_re.loc['ford galaxie 500', ['mpg', 'origin']]\n"
   ]
  },
  {
   "cell_type": "markdown",
   "id": "bdbeddfd",
   "metadata": {},
   "source": [
    "### More on Selecting Rows and Columns\n",
    "Suppose now that we want to create a data frame consisting of the  `weight` and `origin`  of the subset of cars with \n",
    "`year` greater than 80 --- i.e. those built after 1980.\n",
    "To do this, we first create a Boolean array that indexes the rows.\n",
    "The `loc[]` method allows for Boolean entries as well as strings:"
   ]
  },
  {
   "cell_type": "code",
   "execution_count": null,
   "id": "df6fa9de",
   "metadata": {
    "execution": {
     "iopub.execute_input": "2024-06-05T01:13:24.410553Z",
     "iopub.status.busy": "2024-06-05T01:13:24.410479Z",
     "iopub.status.idle": "2024-06-05T01:13:24.415558Z",
     "shell.execute_reply": "2024-06-05T01:13:24.415322Z"
    },
    "lines_to_next_cell": 2
   },
   "outputs": [],
   "source": [
    "idx_80 = Auto_re['year'] > 80\n",
    "Auto_re.loc[idx_80, ['weight', 'origin']]\n"
   ]
  },
  {
   "cell_type": "markdown",
   "id": "3e67bd1f",
   "metadata": {},
   "source": [
    "To do this more concisely, we can use an anonymous function called a `lambda`: "
   ]
  },
  {
   "cell_type": "code",
   "execution_count": null,
   "id": "b57f8503",
   "metadata": {
    "execution": {
     "iopub.execute_input": "2024-06-05T01:13:24.416807Z",
     "iopub.status.busy": "2024-06-05T01:13:24.416735Z",
     "iopub.status.idle": "2024-06-05T01:13:24.421885Z",
     "shell.execute_reply": "2024-06-05T01:13:24.421649Z"
    },
    "lines_to_next_cell": 0
   },
   "outputs": [],
   "source": [
    "Auto_re.loc[lambda df: df['year'] > 80, ['weight', 'origin']]\n"
   ]
  },
  {
   "cell_type": "markdown",
   "id": "c05c4b8d",
   "metadata": {},
   "source": [
    "The `lambda` call creates a function that takes a single\n",
    "argument, here `df`, and returns `df['year']>80`.\n",
    "Since it is created inside the `loc[]` method for the\n",
    "dataframe `Auto_re`, that dataframe will be the argument supplied.\n",
    "As another example of using a `lambda`, suppose that\n",
    "we want all cars built after 1980 that achieve greater than 30 miles per gallon:"
   ]
  },
  {
   "cell_type": "code",
   "execution_count": null,
   "id": "965b5b74",
   "metadata": {
    "execution": {
     "iopub.execute_input": "2024-06-05T01:13:24.423165Z",
     "iopub.status.busy": "2024-06-05T01:13:24.423091Z",
     "iopub.status.idle": "2024-06-05T01:13:24.427651Z",
     "shell.execute_reply": "2024-06-05T01:13:24.427390Z"
    },
    "lines_to_next_cell": 0
   },
   "outputs": [],
   "source": [
    "Auto_re.loc[lambda df: (df['year'] > 80) & (df['mpg'] > 30),\n",
    "            ['weight', 'origin']\n",
    "           ]\n"
   ]
  },
  {
   "cell_type": "markdown",
   "id": "29c8f349",
   "metadata": {},
   "source": [
    "The symbol `&` computes an element-wise *and* operation.\n",
    "As another example, suppose that we want to retrieve all `Ford` and `Datsun`\n",
    "cars with `displacement` less than 300. We check whether each `name` entry contains either the string `ford` or `datsun` using the  `str.contains()` method of the `index` attribute of \n",
    "of the dataframe:"
   ]
  },
  {
   "cell_type": "code",
   "execution_count": null,
   "id": "37ba9d44",
   "metadata": {
    "execution": {
     "iopub.execute_input": "2024-06-05T01:13:24.428873Z",
     "iopub.status.busy": "2024-06-05T01:13:24.428804Z",
     "iopub.status.idle": "2024-06-05T01:13:24.434121Z",
     "shell.execute_reply": "2024-06-05T01:13:24.433857Z"
    },
    "lines_to_next_cell": 0
   },
   "outputs": [],
   "source": [
    "Auto_re.loc[lambda df: (df['displacement'] < 300)\n",
    "                       & (df.index.str.contains('ford')\n",
    "                       | df.index.str.contains('datsun')),\n",
    "            ['weight', 'origin']\n",
    "           ]\n"
   ]
  },
  {
   "cell_type": "markdown",
   "id": "ff538ed7",
   "metadata": {},
   "source": [
    "Here, the symbol `|` computes an element-wise *or* operation.\n",
    " \n",
    "In summary, a powerful set of operations is available to index the rows and columns of data frames. For integer based queries, use the `iloc[]` method. For string and Boolean\n",
    "selections, use the `loc[]` method. For functional queries that filter rows, use the `loc[]` method\n",
    "with a function (typically a `lambda`) in the rows argument.\n",
    "\n",
    "## For Loops\n",
    "A `for` loop is a standard tool in many languages that\n",
    "repeatedly evaluates some chunk of code while\n",
    "varying different values inside the code.\n",
    "For example, suppose we loop over elements of a list and compute their sum."
   ]
  },
  {
   "cell_type": "code",
   "execution_count": null,
   "id": "2e945229",
   "metadata": {
    "execution": {
     "iopub.execute_input": "2024-06-05T01:13:24.435453Z",
     "iopub.status.busy": "2024-06-05T01:13:24.435372Z",
     "iopub.status.idle": "2024-06-05T01:13:24.437109Z",
     "shell.execute_reply": "2024-06-05T01:13:24.436843Z"
    },
    "lines_to_next_cell": 0
   },
   "outputs": [],
   "source": [
    "total = 0\n",
    "for value in [3,2,19]:\n",
    "    total += value\n",
    "print('Total is: {0}'.format(total))\n"
   ]
  },
  {
   "cell_type": "markdown",
   "id": "076ec0d0",
   "metadata": {},
   "source": [
    "The indented code beneath the line with the `for` statement is run\n",
    "for each value in the sequence\n",
    "specified in the `for` statement. The loop ends either\n",
    "when the cell ends or when code is indented at the same level\n",
    "as the original `for` statement.\n",
    "We see that the final line above which prints the total is executed\n",
    "only once after the for loop has terminated. Loops\n",
    "can be nested by additional indentation."
   ]
  },
  {
   "cell_type": "code",
   "execution_count": null,
   "id": "a8042d85",
   "metadata": {
    "execution": {
     "iopub.execute_input": "2024-06-05T01:13:24.438521Z",
     "iopub.status.busy": "2024-06-05T01:13:24.438449Z",
     "iopub.status.idle": "2024-06-05T01:13:24.440428Z",
     "shell.execute_reply": "2024-06-05T01:13:24.440188Z"
    },
    "lines_to_next_cell": 0
   },
   "outputs": [],
   "source": [
    "total = 0\n",
    "for value in [2,3,19]:\n",
    "    for weight in [3, 2, 1]:\n",
    "        total += value * weight\n",
    "print('Total is: {0}'.format(total))"
   ]
  },
  {
   "cell_type": "markdown",
   "id": "ed55d12d",
   "metadata": {},
   "source": [
    "Above, we summed over each combination of `value` and `weight`.\n",
    "We also took advantage of the *increment* notation\n",
    "in `Python`: the expression `a += b` is equivalent\n",
    "to `a = a + b`. Besides\n",
    "being a convenient notation, this can save time in computationally\n",
    "heavy tasks in which the intermediate value of `a+b` need not\n",
    "be explicitly created.\n",
    "\n",
    "Perhaps a more\n",
    "common task would be to sum over `(value, weight)` pairs. For instance,\n",
    "to compute the average value of a random variable that takes on\n",
    "possible values 2, 3 or 19 with probability 0.2, 0.3, 0.5 respectively\n",
    "we would compute the weighted sum. Tasks such as this\n",
    "can often be accomplished using the `zip()`  function that\n",
    "loops over a sequence of tuples."
   ]
  },
  {
   "cell_type": "code",
   "execution_count": null,
   "id": "25f92ff6",
   "metadata": {
    "execution": {
     "iopub.execute_input": "2024-06-05T01:13:24.441636Z",
     "iopub.status.busy": "2024-06-05T01:13:24.441560Z",
     "iopub.status.idle": "2024-06-05T01:13:24.443474Z",
     "shell.execute_reply": "2024-06-05T01:13:24.443262Z"
    }
   },
   "outputs": [],
   "source": [
    "total = 0\n",
    "for value, weight in zip([2,3,19],\n",
    "                         [0.2,0.3,0.5]):\n",
    "    total += weight * value\n",
    "print('Weighted average is: {0}'.format(total))\n"
   ]
  },
  {
   "cell_type": "markdown",
   "id": "00999fd0",
   "metadata": {},
   "source": [
    "### String Formatting\n",
    "In the code chunk above we also printed a string\n",
    "displaying the total. However, the object `total`\n",
    "is an  integer and not a string.\n",
    "Inserting the value of something into\n",
    "a string is a common task, made\n",
    "simple using\n",
    "some of the powerful string formatting\n",
    "tools in `Python`.\n",
    "Many data cleaning tasks involve\n",
    "manipulating and programmatically\n",
    "producing strings.\n",
    "\n",
    "For example we may want to loop over the columns of a data frame and\n",
    "print the percent missing in each column.\n",
    "Let’s create a data frame `D` with columns in which 20% of the entries are missing i.e. set\n",
    "to `np.nan`.  We’ll create the\n",
    "values in `D` from a normal distribution with mean 0 and variance 1 using `rng.standard_normal()`\n",
    "and then overwrite some random entries using `rng.choice()`."
   ]
  },
  {
   "cell_type": "code",
   "execution_count": null,
   "id": "35700d0c",
   "metadata": {
    "execution": {
     "iopub.execute_input": "2024-06-05T01:13:24.444779Z",
     "iopub.status.busy": "2024-06-05T01:13:24.444708Z",
     "iopub.status.idle": "2024-06-05T01:13:24.448724Z",
     "shell.execute_reply": "2024-06-05T01:13:24.448517Z"
    },
    "lines_to_next_cell": 2
   },
   "outputs": [],
   "source": [
    "rng = np.random.default_rng(1)\n",
    "A = rng.standard_normal((127, 5))\n",
    "M = rng.choice([0, np.nan], p=[0.8,0.2], size=A.shape)\n",
    "A += M\n",
    "D = pd.DataFrame(A, columns=['food',\n",
    "                             'bar',\n",
    "                             'pickle',\n",
    "                             'snack',\n",
    "                             'popcorn'])\n",
    "D[:3]\n"
   ]
  },
  {
   "cell_type": "code",
   "execution_count": null,
   "id": "dc8b3ab5",
   "metadata": {
    "execution": {
     "iopub.execute_input": "2024-06-05T01:13:24.450038Z",
     "iopub.status.busy": "2024-06-05T01:13:24.449931Z",
     "iopub.status.idle": "2024-06-05T01:13:24.452280Z",
     "shell.execute_reply": "2024-06-05T01:13:24.452065Z"
    },
    "lines_to_next_cell": 0
   },
   "outputs": [],
   "source": [
    "for col in D.columns:\n",
    "    template = 'Column \"{0}\" has {1:.2%} missing values'\n",
    "    print(template.format(col,\n",
    "          np.isnan(D[col]).mean()))\n"
   ]
  },
  {
   "cell_type": "markdown",
   "id": "add802e6",
   "metadata": {},
   "source": [
    "We see that the `template.format()` method expects two arguments `{0}`\n",
    "and `{1:.2%}`, and the latter includes some formatting\n",
    "information. In particular, it specifies that the second argument should be expressed as a percent with two decimal digits.\n",
    "\n",
    "The reference\n",
    "[docs.python.org/3/library/string.html](https://docs.python.org/3/library/string.html)\n",
    "includes many helpful and more complex examples."
   ]
  },
  {
   "cell_type": "markdown",
   "id": "42c6b8fc",
   "metadata": {},
   "source": [
    "## Additional Graphical and Numerical Summaries\n",
    "We can use the `ax.plot()` or  `ax.scatter()`  functions to display the quantitative variables. However, simply typing the variable names will produce an error message,\n",
    "because `Python` does not know to look in the  `Auto`  data set for those variables."
   ]
  },
  {
   "cell_type": "code",
   "execution_count": null,
   "id": "06c63b21",
   "metadata": {
    "execution": {
     "iopub.execute_input": "2024-06-05T01:13:24.453702Z",
     "iopub.status.busy": "2024-06-05T01:13:24.453623Z",
     "iopub.status.idle": "2024-06-05T01:13:24.518273Z",
     "shell.execute_reply": "2024-06-05T01:13:24.518032Z"
    },
    "lines_to_next_cell": 0
   },
   "outputs": [],
   "source": [
    "fig, ax = subplots(figsize=(8, 8))\n",
    "ax.plot(horsepower, mpg, 'o');"
   ]
  },
  {
   "cell_type": "markdown",
   "id": "13400a24",
   "metadata": {},
   "source": [
    "We can address this by accessing the columns directly:"
   ]
  },
  {
   "cell_type": "code",
   "execution_count": null,
   "id": "dae69229",
   "metadata": {
    "execution": {
     "iopub.execute_input": "2024-06-05T01:13:24.519916Z",
     "iopub.status.busy": "2024-06-05T01:13:24.519789Z",
     "iopub.status.idle": "2024-06-05T01:13:24.583555Z",
     "shell.execute_reply": "2024-06-05T01:13:24.583240Z"
    },
    "lines_to_next_cell": 0
   },
   "outputs": [],
   "source": [
    "fig, ax = subplots(figsize=(8, 8))\n",
    "ax.plot(Auto['horsepower'], Auto['mpg'], 'o');\n"
   ]
  },
  {
   "cell_type": "markdown",
   "id": "743334ab",
   "metadata": {},
   "source": [
    "Alternatively, we can use the `plot()` method with the call `Auto.plot()`.\n",
    "Using this method,\n",
    "the variables  can be accessed by name.\n",
    "The plot methods of a data frame return a familiar object:\n",
    "an axes. We can use it to update the plot as we did previously: "
   ]
  },
  {
   "cell_type": "code",
   "execution_count": null,
   "id": "9fbba9c1",
   "metadata": {
    "execution": {
     "iopub.execute_input": "2024-06-05T01:13:24.585300Z",
     "iopub.status.busy": "2024-06-05T01:13:24.585174Z",
     "iopub.status.idle": "2024-06-05T01:13:24.652899Z",
     "shell.execute_reply": "2024-06-05T01:13:24.652654Z"
    },
    "lines_to_next_cell": 0
   },
   "outputs": [],
   "source": [
    "ax = Auto.plot.scatter('horsepower', 'mpg')\n",
    "ax.set_title('Horsepower vs. MPG');"
   ]
  },
  {
   "cell_type": "markdown",
   "id": "157c0d7b",
   "metadata": {},
   "source": [
    "If we want to save\n",
    "the figure that contains a given axes, we can find the relevant figure\n",
    "by accessing the `figure` attribute:"
   ]
  },
  {
   "cell_type": "code",
   "execution_count": null,
   "id": "f04edd65",
   "metadata": {
    "execution": {
     "iopub.execute_input": "2024-06-05T01:13:24.654736Z",
     "iopub.status.busy": "2024-06-05T01:13:24.654609Z",
     "iopub.status.idle": "2024-06-05T01:13:24.686673Z",
     "shell.execute_reply": "2024-06-05T01:13:24.686397Z"
    }
   },
   "outputs": [],
   "source": [
    "fig = ax.figure\n",
    "fig.savefig('horsepower_mpg.png');"
   ]
  },
  {
   "cell_type": "markdown",
   "id": "594c98cc",
   "metadata": {},
   "source": [
    "We can further instruct the data frame to plot to a particular axes object. In this\n",
    "case the corresponding `plot()` method will return the\n",
    "modified axes we passed in as an argument. Note that\n",
    "when we request a one-dimensional grid of plots, the object `axes` is similarly\n",
    "one-dimensional. We place our scatter plot in the middle plot of a row of three plots\n",
    "within a figure."
   ]
  },
  {
   "cell_type": "code",
   "execution_count": null,
   "id": "c0e67313",
   "metadata": {
    "execution": {
     "iopub.execute_input": "2024-06-05T01:13:24.688535Z",
     "iopub.status.busy": "2024-06-05T01:13:24.688413Z",
     "iopub.status.idle": "2024-06-05T01:13:24.803975Z",
     "shell.execute_reply": "2024-06-05T01:13:24.803707Z"
    }
   },
   "outputs": [],
   "source": [
    "fig, axes = subplots(ncols=3, figsize=(15, 5))\n",
    "Auto.plot.scatter('horsepower', 'mpg', ax=axes[1]);\n"
   ]
  },
  {
   "cell_type": "markdown",
   "id": "d8ac788f",
   "metadata": {},
   "source": [
    "Note also that the columns of a data frame can be accessed as attributes: try typing in `Auto.horsepower`. "
   ]
  },
  {
   "cell_type": "markdown",
   "id": "f2135411",
   "metadata": {},
   "source": [
    "We now consider the `cylinders` variable. Typing in `Auto.cylinders.dtype` reveals that it is being treated as a quantitative variable. \n",
    "However, since there is only a small number of possible values for this variable, we may wish to treat it as \n",
    " qualitative.  Below, we replace\n",
    "the `cylinders` column with a categorical version of `Auto.cylinders`. The function `pd.Series()`  owes its name to the fact that `pandas` is often used in time series applications."
   ]
  },
  {
   "cell_type": "code",
   "execution_count": null,
   "id": "660482a9",
   "metadata": {
    "execution": {
     "iopub.execute_input": "2024-06-05T01:13:24.805818Z",
     "iopub.status.busy": "2024-06-05T01:13:24.805711Z",
     "iopub.status.idle": "2024-06-05T01:13:24.808717Z",
     "shell.execute_reply": "2024-06-05T01:13:24.808447Z"
    },
    "lines_to_next_cell": 0
   },
   "outputs": [],
   "source": [
    "Auto.cylinders = pd.Series(Auto.cylinders, dtype='category')\n",
    "Auto.cylinders.dtype\n"
   ]
  },
  {
   "cell_type": "markdown",
   "id": "917a64a1",
   "metadata": {},
   "source": [
    " Now that `cylinders` is qualitative, we can display it using\n",
    " the `boxplot()` method."
   ]
  },
  {
   "cell_type": "code",
   "execution_count": null,
   "id": "9eb5befc",
   "metadata": {
    "execution": {
     "iopub.execute_input": "2024-06-05T01:13:24.810317Z",
     "iopub.status.busy": "2024-06-05T01:13:24.810186Z",
     "iopub.status.idle": "2024-06-05T01:13:24.890120Z",
     "shell.execute_reply": "2024-06-05T01:13:24.889777Z"
    }
   },
   "outputs": [],
   "source": [
    "fig, ax = subplots(figsize=(8, 8))\n",
    "Auto.boxplot('mpg', by='cylinders', ax=ax);\n"
   ]
  },
  {
   "cell_type": "markdown",
   "id": "18d2d520",
   "metadata": {},
   "source": [
    "The `hist()`  method can be used to plot a *histogram*."
   ]
  },
  {
   "cell_type": "code",
   "execution_count": null,
   "id": "f529de12",
   "metadata": {
    "execution": {
     "iopub.execute_input": "2024-06-05T01:13:24.891763Z",
     "iopub.status.busy": "2024-06-05T01:13:24.891650Z",
     "iopub.status.idle": "2024-06-05T01:13:25.003998Z",
     "shell.execute_reply": "2024-06-05T01:13:25.003699Z"
    },
    "lines_to_next_cell": 0
   },
   "outputs": [],
   "source": [
    "fig, ax = subplots(figsize=(8, 8))\n",
    "Auto.hist('mpg', ax=ax);\n"
   ]
  },
  {
   "cell_type": "markdown",
   "id": "edbe71f5",
   "metadata": {},
   "source": [
    "The color of the bars and the number of bins can be changed:"
   ]
  },
  {
   "cell_type": "code",
   "execution_count": null,
   "id": "9a897cee",
   "metadata": {
    "execution": {
     "iopub.execute_input": "2024-06-05T01:13:25.005602Z",
     "iopub.status.busy": "2024-06-05T01:13:25.005490Z",
     "iopub.status.idle": "2024-06-05T01:13:25.073490Z",
     "shell.execute_reply": "2024-06-05T01:13:25.073206Z"
    },
    "lines_to_next_cell": 0
   },
   "outputs": [],
   "source": [
    "fig, ax = subplots(figsize=(8, 8))\n",
    "Auto.hist('mpg', color='red', bins=12, ax=ax);\n"
   ]
  },
  {
   "cell_type": "markdown",
   "id": "c558bb20",
   "metadata": {},
   "source": [
    " See `Auto.hist?` for more plotting\n",
    "options.\n",
    " \n",
    "We can use the `pd.plotting.scatter_matrix()`   function to create a *scatterplot matrix* to visualize all of the pairwise relationships between the columns in\n",
    "a data frame."
   ]
  },
  {
   "cell_type": "code",
   "execution_count": null,
   "id": "5e003b22",
   "metadata": {
    "execution": {
     "iopub.execute_input": "2024-06-05T01:13:25.074969Z",
     "iopub.status.busy": "2024-06-05T01:13:25.074887Z",
     "iopub.status.idle": "2024-06-05T01:13:25.692705Z",
     "shell.execute_reply": "2024-06-05T01:13:25.692389Z"
    },
    "lines_to_next_cell": 0
   },
   "outputs": [],
   "source": [
    "pd.plotting.scatter_matrix(Auto);\n"
   ]
  },
  {
   "cell_type": "markdown",
   "id": "b7ecee3c",
   "metadata": {},
   "source": [
    " We can also produce scatterplots\n",
    "for a subset of the variables."
   ]
  },
  {
   "cell_type": "code",
   "execution_count": null,
   "id": "87f2d391",
   "metadata": {
    "execution": {
     "iopub.execute_input": "2024-06-05T01:13:25.694496Z",
     "iopub.status.busy": "2024-06-05T01:13:25.694384Z",
     "iopub.status.idle": "2024-06-05T01:13:25.844894Z",
     "shell.execute_reply": "2024-06-05T01:13:25.844571Z"
    },
    "lines_to_next_cell": 0
   },
   "outputs": [],
   "source": [
    "pd.plotting.scatter_matrix(Auto[['mpg',\n",
    "                                 'displacement',\n",
    "                                 'weight']]);\n"
   ]
  },
  {
   "cell_type": "markdown",
   "id": "d4577efb",
   "metadata": {},
   "source": [
    "The `describe()`  method produces a numerical summary of each column in a data frame."
   ]
  },
  {
   "cell_type": "code",
   "execution_count": null,
   "id": "33cc3b75",
   "metadata": {
    "execution": {
     "iopub.execute_input": "2024-06-05T01:13:25.846556Z",
     "iopub.status.busy": "2024-06-05T01:13:25.846449Z",
     "iopub.status.idle": "2024-06-05T01:13:25.851555Z",
     "shell.execute_reply": "2024-06-05T01:13:25.851286Z"
    },
    "lines_to_next_cell": 0
   },
   "outputs": [],
   "source": [
    "Auto[['mpg', 'weight']].describe()\n"
   ]
  },
  {
   "cell_type": "markdown",
   "id": "f657fa4d",
   "metadata": {},
   "source": [
    "We can also produce a summary of just a single column."
   ]
  },
  {
   "cell_type": "code",
   "execution_count": null,
   "id": "398d24d3",
   "metadata": {
    "execution": {
     "iopub.execute_input": "2024-06-05T01:13:25.853203Z",
     "iopub.status.busy": "2024-06-05T01:13:25.853071Z",
     "iopub.status.idle": "2024-06-05T01:13:25.856902Z",
     "shell.execute_reply": "2024-06-05T01:13:25.856620Z"
    },
    "lines_to_next_cell": 0
   },
   "outputs": [],
   "source": [
    "Auto['cylinders'].describe()\n",
    "Auto['mpg'].describe()\n"
   ]
  },
  {
   "cell_type": "markdown",
   "id": "bc7e71b4",
   "metadata": {},
   "source": [
    "To exit `Jupyter`,  select `File / Shut Down`.\n",
    "\n",
    " \n",
    "\n"
   ]
  }
 ],
 "metadata": {
  "jupytext": {
   "cell_metadata_filter": "-all",
   "main_language": "python",
   "notebook_metadata_filter": "-all"
  },
  "kernelspec": {
   "display_name": ".venv",
   "language": "python",
   "name": "python3"
  },
  "language_info": {
   "codemirror_mode": {
    "name": "ipython",
    "version": 3
   },
   "file_extension": ".py",
   "mimetype": "text/x-python",
   "name": "python",
   "nbconvert_exporter": "python",
   "pygments_lexer": "ipython3",
   "version": "3.12.3"
  }
 },
 "nbformat": 4,
 "nbformat_minor": 5
}
