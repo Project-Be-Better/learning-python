{
 "cells": [
  {
   "cell_type": "code",
   "execution_count": 1,
   "metadata": {},
   "outputs": [
    {
     "data": {
      "application/javascript": "if (window.IPython && IPython.notebook.kernel) IPython.notebook.kernel.execute('jovian.utils.jupyter.get_notebook_name_saved = lambda: \"' + IPython.notebook.notebook_name + '\"')",
      "text/plain": [
       "<IPython.core.display.Javascript object>"
      ]
     },
     "metadata": {},
     "output_type": "display_data"
    }
   ],
   "source": [
    "import jovian "
   ]
  },
  {
   "cell_type": "code",
   "execution_count": 2,
   "metadata": {},
   "outputs": [],
   "source": [
    "tests = []"
   ]
  },
  {
   "cell_type": "code",
   "execution_count": 3,
   "metadata": {},
   "outputs": [],
   "source": [
    "# query occurs in the middle\n",
    "tests.append({\"input\": {\"cards\": [13, 11, 10, 7, 4, 3, 1, 0], \"query\": 1}, \"output\": 6})\n",
    "\n",
    "# query is the first element\n",
    "tests.append({\"input\": {\"cards\": [4, 2, 1, -1], \"query\": 4}, \"output\": 0})\n",
    "\n",
    "# query is the last element\n",
    "tests.append({\"input\": {\"cards\": [3, -1, -9, -127], \"query\": -127}, \"output\": 3})\n",
    "\n",
    "# cards contains just one element, query\n",
    "tests.append({\"input\": {\"cards\": [6], \"query\": 6}, \"output\": 0})\n",
    "\n",
    "# cards does not contain query\n",
    "tests.append({\"input\": {\"cards\": [9, 7, 5, 2, -9], \"query\": 4}, \"output\": -1})\n",
    "\n",
    "# cards is empty\n",
    "tests.append({\"input\": {\"cards\": [], \"query\": 7}, \"output\": -1})\n",
    "\n",
    "# numbers can repeat in cards\n",
    "tests.append(\n",
    "    {\n",
    "        \"input\": {\"cards\": [8, 8, 6, 6, 6, 6, 6, 3, 2, 2, 2, 0, 0, 0], \"query\": 3},\n",
    "        \"output\": 7,\n",
    "    }\n",
    ")"
   ]
  },
  {
   "cell_type": "code",
   "execution_count": 4,
   "metadata": {},
   "outputs": [],
   "source": [
    "# def locate_card(cards:list,query:int):\n",
    "#     \"\"\"\n",
    "#     Query card from the list list of cards\n",
    "#     \"\"\"\n",
    "\n",
    "#     # Default Position\n",
    "#     position = 0\n",
    "\n",
    "#     # Loop until the query is found\n",
    "#     while position < len(cards):\n",
    "#         if cards[position] == query:\n",
    "#             return position\n",
    "\n",
    "#         position += 1\n",
    "\n",
    "#     return -1\n",
    "\n",
    "\n",
    "def locate_card(cards, query):\n",
    "    position = 0\n",
    "    while position < len(cards):\n",
    "        if cards[position] == query:\n",
    "            return position\n",
    "        position += 1\n",
    "    return -1"
   ]
  },
  {
   "cell_type": "code",
   "execution_count": 5,
   "metadata": {},
   "outputs": [],
   "source": [
    "from jovian.pythondsa import evaluate_test_cases"
   ]
  },
  {
   "cell_type": "markdown",
   "metadata": {},
   "source": []
  },
  {
   "cell_type": "code",
   "execution_count": 6,
   "metadata": {},
   "outputs": [
    {
     "name": "stdout",
     "output_type": "stream",
     "text": [
      "\n",
      "\u001b[1mTEST CASE #0\u001b[0m\n",
      "\n",
      "Input:\n",
      "{'cards': [13, 11, 10, 7, 4, 3, 1, 0], 'query': 1}\n",
      "\n",
      "Expected Output:\n",
      "6\n",
      "\n",
      "\n",
      "Actual Output:\n",
      "6\n",
      "\n",
      "Execution Time:\n",
      "0.005 ms\n",
      "\n",
      "Test Result:\n",
      "\u001b[92mPASSED\u001b[0m\n",
      "\n",
      "\n",
      "\u001b[1mTEST CASE #1\u001b[0m\n",
      "\n",
      "Input:\n",
      "{'cards': [4, 2, 1, -1], 'query': 4}\n",
      "\n",
      "Expected Output:\n",
      "0\n",
      "\n",
      "\n",
      "Actual Output:\n",
      "0\n",
      "\n",
      "Execution Time:\n",
      "0.003 ms\n",
      "\n",
      "Test Result:\n",
      "\u001b[92mPASSED\u001b[0m\n",
      "\n",
      "\n",
      "\u001b[1mTEST CASE #2\u001b[0m\n",
      "\n",
      "Input:\n",
      "{'cards': [3, -1, -9, -127], 'query': -127}\n",
      "\n",
      "Expected Output:\n",
      "3\n",
      "\n",
      "\n",
      "Actual Output:\n",
      "3\n",
      "\n",
      "Execution Time:\n",
      "0.003 ms\n",
      "\n",
      "Test Result:\n",
      "\u001b[92mPASSED\u001b[0m\n",
      "\n",
      "\n",
      "\u001b[1mTEST CASE #3\u001b[0m\n",
      "\n",
      "Input:\n",
      "{'cards': [6], 'query': 6}\n",
      "\n",
      "Expected Output:\n",
      "0\n",
      "\n",
      "\n",
      "Actual Output:\n",
      "0\n",
      "\n",
      "Execution Time:\n",
      "0.002 ms\n",
      "\n",
      "Test Result:\n",
      "\u001b[92mPASSED\u001b[0m\n",
      "\n",
      "\n",
      "\u001b[1mTEST CASE #4\u001b[0m\n",
      "\n",
      "Input:\n",
      "{'cards': [9, 7, 5, 2, -9], 'query': 4}\n",
      "\n",
      "Expected Output:\n",
      "-1\n",
      "\n",
      "\n",
      "Actual Output:\n",
      "-1\n",
      "\n",
      "Execution Time:\n",
      "0.003 ms\n",
      "\n",
      "Test Result:\n",
      "\u001b[92mPASSED\u001b[0m\n",
      "\n",
      "\n",
      "\u001b[1mTEST CASE #5\u001b[0m\n",
      "\n",
      "Input:\n",
      "{'cards': [], 'query': 7}\n",
      "\n",
      "Expected Output:\n",
      "-1\n",
      "\n",
      "\n",
      "Actual Output:\n",
      "-1\n",
      "\n",
      "Execution Time:\n",
      "0.001 ms\n",
      "\n",
      "Test Result:\n",
      "\u001b[92mPASSED\u001b[0m\n",
      "\n",
      "\n",
      "\u001b[1mTEST CASE #6\u001b[0m\n",
      "\n",
      "Input:\n",
      "{'cards': [8, 8, 6, 6, 6, 6, 6, 3, 2, 2, 2, 0, 0, 0], 'query': 3}\n",
      "\n",
      "Expected Output:\n",
      "7\n",
      "\n",
      "\n",
      "Actual Output:\n",
      "7\n",
      "\n",
      "Execution Time:\n",
      "0.002 ms\n",
      "\n",
      "Test Result:\n",
      "\u001b[92mPASSED\u001b[0m\n",
      "\n",
      "\n",
      "\u001b[1mSUMMARY\u001b[0m\n",
      "\n",
      "TOTAL: 7, \u001b[92mPASSED\u001b[0m: 7, \u001b[91mFAILED\u001b[0m: 0\n"
     ]
    },
    {
     "data": {
      "text/plain": [
       "[(6, True, 0.005),\n",
       " (0, True, 0.003),\n",
       " (3, True, 0.003),\n",
       " (0, True, 0.002),\n",
       " (-1, True, 0.003),\n",
       " (-1, True, 0.001),\n",
       " (7, True, 0.002)]"
      ]
     },
     "execution_count": 6,
     "metadata": {},
     "output_type": "execute_result"
    }
   ],
   "source": [
    "evaluate_test_cases(locate_card, tests)"
   ]
  },
  {
   "cell_type": "code",
   "execution_count": 7,
   "metadata": {},
   "outputs": [],
   "source": [
    "def locate_card(cards:list, query:int):\n",
    "    \"\"\" \n",
    "    Returns the position of the card from an array of cards \n",
    "    \"\"\"\n",
    "    \n",
    "\n",
    "    # Find the middle element of the array \n",
    "    lo, hi = 0, len(cards) - 1 \n",
    "\n",
    "    # Find the middle element \n",
    "    while lo <= hi : \n",
    "        mid = (lo + hi) // 2\n",
    "        mid_number = cards[mid]\n",
    "\n",
    "        # print(f\"lo : {lo} , hi : {hi}, mid : {mid}\")\n",
    "\n",
    "        if mid_number == query:\n",
    "            print(f\"lo : {lo} , hi : {hi}, mid : {mid}\")\n",
    "            return mid \n",
    "        \n",
    "        if mid_number < query :\n",
    "            print(f\"lo : {lo} , hi : {hi}, mid : {mid}\")\n",
    "            hi = mid - 1 \n",
    "            print(\"<<< Going Left of Array\")\n",
    "        elif mid_number > query : \n",
    "            print(f\"lo : {lo} , hi : {hi}, mid : {mid}\")\n",
    "            print(\">>> Going Right of Array\")\n",
    "            lo = mid + 1 \n"
   ]
  },
  {
   "cell_type": "code",
   "execution_count": 8,
   "metadata": {},
   "outputs": [],
   "source": [
    "cards = [13, 11, 10, 7, 4, 3, 1, 0]\n",
    "query = 13"
   ]
  },
  {
   "cell_type": "code",
   "execution_count": 9,
   "metadata": {},
   "outputs": [
    {
     "name": "stdout",
     "output_type": "stream",
     "text": [
      "lo : 0 , hi : 7, mid : 3\n",
      "<<< Going Left of Array\n",
      "lo : 0 , hi : 2, mid : 1\n",
      "<<< Going Left of Array\n",
      "lo : 0 , hi : 0, mid : 0\n"
     ]
    },
    {
     "data": {
      "text/plain": [
       "0"
      ]
     },
     "execution_count": 9,
     "metadata": {},
     "output_type": "execute_result"
    }
   ],
   "source": [
    "locate_card(cards,query)"
   ]
  },
  {
   "cell_type": "code",
   "execution_count": null,
   "metadata": {},
   "outputs": [],
   "source": []
  }
 ],
 "metadata": {
  "kernelspec": {
   "display_name": "venv",
   "language": "python",
   "name": "python3"
  },
  "language_info": {
   "codemirror_mode": {
    "name": "ipython",
    "version": 3
   },
   "file_extension": ".py",
   "mimetype": "text/x-python",
   "name": "python",
   "nbconvert_exporter": "python",
   "pygments_lexer": "ipython3",
   "version": "3.8.0"
  }
 },
 "nbformat": 4,
 "nbformat_minor": 2
}
