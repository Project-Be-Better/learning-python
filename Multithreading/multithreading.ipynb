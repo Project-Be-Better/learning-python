{
 "cells": [
  {
   "cell_type": "code",
   "execution_count": 8,
   "metadata": {},
   "outputs": [],
   "source": [
    "import time \n",
    "import threading"
   ]
  },
  {
   "cell_type": "code",
   "execution_count": 4,
   "metadata": {},
   "outputs": [],
   "source": [
    "def calc_square(numbers):\n",
    "    print(\"Calculate Square numbers\")\n",
    "    for n in numbers:\n",
    "        time.sleep(0.2)\n",
    "        print('square', n*n)\n",
    "\n",
    "\n",
    "def calc_cube(numbers):\n",
    "    print(\"Calculate Cube of numbers\")\n",
    "    for n in numbers:\n",
    "        time.sleep(0.2)\n",
    "        print(\"square\", n * n * n)"
   ]
  },
  {
   "cell_type": "code",
   "execution_count": 5,
   "metadata": {},
   "outputs": [],
   "source": [
    "arr = [2,3,8,9]"
   ]
  },
  {
   "cell_type": "code",
   "execution_count": 7,
   "metadata": {},
   "outputs": [
    {
     "name": "stdout",
     "output_type": "stream",
     "text": [
      "Calculate Square numbers\n",
      "square 4\n",
      "square 9\n",
      "square 64\n",
      "square 81\n",
      "Calculate Cube of numbers\n",
      "square 8\n",
      "square 27\n",
      "square 512\n",
      "square 729\n",
      "time :  1.6035377979278564\n"
     ]
    }
   ],
   "source": [
    "start_time = time.time()\n",
    "calc_square(arr)\n",
    "calc_cube(arr)\n",
    "end_time = time.time()\n",
    "duration = s=end_time-start_time\n",
    "print(\"time : \", duration )"
   ]
  },
  {
   "cell_type": "code",
   "execution_count": 10,
   "metadata": {},
   "outputs": [],
   "source": [
    "thread1 = threading.Thread(target=calc_square, args=(arr,))\n",
    "thread2 = threading.Thread(target=calc_cube, args=(arr,))"
   ]
  },
  {
   "cell_type": "code",
   "execution_count": 11,
   "metadata": {},
   "outputs": [
    {
     "name": "stdout",
     "output_type": "stream",
     "text": [
      "Calculate Square numbers\n",
      "Calculate Cube of numbers\n",
      "square 4\n",
      "square 8\n",
      "square 9\n",
      "square 27\n",
      "square 64\n",
      "square 512\n",
      "square 81\n",
      "square 729\n",
      "time :  0.8084721565246582\n"
     ]
    }
   ],
   "source": [
    "start_time = time.time()\n",
    "thread1.start() \n",
    "thread2.start() \n",
    "\n",
    "thread1.join() \n",
    "thread2.join() \n",
    "\n",
    "end_time = time.time()\n",
    "duration = s = end_time - start_time\n",
    "print(\"time : \", duration)"
   ]
  },
  {
   "cell_type": "code",
   "execution_count": null,
   "metadata": {},
   "outputs": [],
   "source": []
  }
 ],
 "metadata": {
  "kernelspec": {
   "display_name": ".venv",
   "language": "python",
   "name": "python3"
  },
  "language_info": {
   "codemirror_mode": {
    "name": "ipython",
    "version": 3
   },
   "file_extension": ".py",
   "mimetype": "text/x-python",
   "name": "python",
   "nbconvert_exporter": "python",
   "pygments_lexer": "ipython3",
   "version": "3.12.3"
  }
 },
 "nbformat": 4,
 "nbformat_minor": 2
}
